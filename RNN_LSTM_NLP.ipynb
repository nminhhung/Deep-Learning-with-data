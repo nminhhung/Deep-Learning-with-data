{
  "cells": [
    {
      "attachments": {},
      "cell_type": "markdown",
      "metadata": {
        "id": "FeQNDUa-u1dR"
      },
      "source": [
        "### RNN - LSTM - NLP"
      ]
    },
    {
      "cell_type": "code",
      "execution_count": 2,
      "metadata": {
        "colab": {
          "base_uri": "https://localhost:8080/"
        },
        "id": "Wug0loNvn4JH",
        "outputId": "9c05cf45-3e1d-4b7c-bb5d-19506e467add"
      },
      "outputs": [
        {
          "name": "stdout",
          "output_type": "stream",
          "text": [
            "Drive already mounted at /content/drive; to attempt to forcibly remount, call drive.mount(\"/content/drive\", force_remount=True).\n"
          ]
        }
      ],
      "source": [
        "from google.colab import drive\n",
        "drive.mount('/content/drive')"
      ]
    },
    {
      "cell_type": "markdown",
      "metadata": {
        "id": "AuB0iQS3JyIi"
      },
      "source": [
        "### Import libraries"
      ]
    },
    {
      "cell_type": "code",
      "execution_count": 3,
      "metadata": {
        "id": "z-lqOTS3186F"
      },
      "outputs": [],
      "source": [
        "import numpy as np\n",
        "import pandas as pd\n",
        "import matplotlib.pyplot as plt\n",
        "import seaborn as sns"
      ]
    },
    {
      "cell_type": "code",
      "execution_count": 4,
      "metadata": {
        "id": "3gHpcshEBozM"
      },
      "outputs": [],
      "source": [
        "import nltk\n",
        "import warnings\n",
        "warnings.filterwarnings('ignore')\n",
        "from html.parser import HTMLParser\n",
        "html_parser = HTMLParser()\n",
        "import re"
      ]
    },
    {
      "cell_type": "code",
      "execution_count": 5,
      "metadata": {
        "id": "4yeKH-i3LbEt"
      },
      "outputs": [],
      "source": [
        "from textblob import TextBlob\n",
        "from nltk.corpus import stopwords\n",
        "from nltk.tokenize import word_tokenize\n",
        "from nltk.stem import PorterStemmer\n",
        "from nltk.stem.wordnet import WordNetLemmatizer"
      ]
    },
    {
      "cell_type": "code",
      "execution_count": 6,
      "metadata": {
        "id": "XO7T4cvPTiFM"
      },
      "outputs": [],
      "source": [
        "from tqdm import tqdm\n",
        "tqdm.pandas(desc=\"progress-bar\")\n",
        "import os\n",
        "from keras.preprocessing.text import Tokenizer\n",
        "from keras_preprocessing.sequence import pad_sequences\n",
        "from sklearn.model_selection import train_test_split\n",
        "from gensim.models import Doc2Vec\n",
        "from gensim.models.doc2vec import TaggedDocument\n",
        "from sklearn import utils\n",
        "from sklearn.linear_model import LogisticRegression"
      ]
    },
    {
      "cell_type": "markdown",
      "metadata": {
        "id": "PZciv24aJzrh"
      },
      "source": [
        "### Data overview"
      ]
    },
    {
      "cell_type": "code",
      "execution_count": 7,
      "metadata": {
        "colab": {
          "base_uri": "https://localhost:8080/",
          "height": 337
        },
        "id": "aqnWZ8bw4rOI",
        "outputId": "a2f15d1a-7a06-44d9-d8ba-4b0343b8a326"
      },
      "outputs": [
        {
          "data": {
            "text/html": [
              "\n",
              "  <div id=\"df-e9ce05d6-d55d-4c80-b2ba-d218d8228e41\">\n",
              "    <div class=\"colab-df-container\">\n",
              "      <div>\n",
              "<style scoped>\n",
              "    .dataframe tbody tr th:only-of-type {\n",
              "        vertical-align: middle;\n",
              "    }\n",
              "\n",
              "    .dataframe tbody tr th {\n",
              "        vertical-align: top;\n",
              "    }\n",
              "\n",
              "    .dataframe thead th {\n",
              "        text-align: right;\n",
              "    }\n",
              "</style>\n",
              "<table border=\"1\" class=\"dataframe\">\n",
              "  <thead>\n",
              "    <tr style=\"text-align: right;\">\n",
              "      <th></th>\n",
              "      <th>reviewerID</th>\n",
              "      <th>asin</th>\n",
              "      <th>reviewerName</th>\n",
              "      <th>helpful</th>\n",
              "      <th>reviewText</th>\n",
              "      <th>overall</th>\n",
              "      <th>summary</th>\n",
              "      <th>unixReviewTime</th>\n",
              "      <th>reviewTime</th>\n",
              "    </tr>\n",
              "  </thead>\n",
              "  <tbody>\n",
              "    <tr>\n",
              "      <th>0</th>\n",
              "      <td>A1KLRMWW2FWPL4</td>\n",
              "      <td>0000031887</td>\n",
              "      <td>Amazon Customer \"cameramom\"</td>\n",
              "      <td>[0, 0]</td>\n",
              "      <td>This is a great tutu and at a really great pri...</td>\n",
              "      <td>5</td>\n",
              "      <td>Great tutu-  not cheaply made</td>\n",
              "      <td>1297468800</td>\n",
              "      <td>02 12, 2011</td>\n",
              "    </tr>\n",
              "    <tr>\n",
              "      <th>1</th>\n",
              "      <td>A2G5TCU2WDFZ65</td>\n",
              "      <td>0000031887</td>\n",
              "      <td>Amazon Customer</td>\n",
              "      <td>[0, 0]</td>\n",
              "      <td>I bought this for my 4 yr old daughter for dan...</td>\n",
              "      <td>5</td>\n",
              "      <td>Very Cute!!</td>\n",
              "      <td>1358553600</td>\n",
              "      <td>01 19, 2013</td>\n",
              "    </tr>\n",
              "    <tr>\n",
              "      <th>2</th>\n",
              "      <td>A1RLQXYNCMWRWN</td>\n",
              "      <td>0000031887</td>\n",
              "      <td>Carola</td>\n",
              "      <td>[0, 0]</td>\n",
              "      <td>What can I say... my daughters have it in oran...</td>\n",
              "      <td>5</td>\n",
              "      <td>I have buy more than one</td>\n",
              "      <td>1357257600</td>\n",
              "      <td>01 4, 2013</td>\n",
              "    </tr>\n",
              "    <tr>\n",
              "      <th>3</th>\n",
              "      <td>A8U3FAMSJVHS5</td>\n",
              "      <td>0000031887</td>\n",
              "      <td>Caromcg</td>\n",
              "      <td>[0, 0]</td>\n",
              "      <td>We bought several tutus at once, and they are ...</td>\n",
              "      <td>5</td>\n",
              "      <td>Adorable, Sturdy</td>\n",
              "      <td>1398556800</td>\n",
              "      <td>04 27, 2014</td>\n",
              "    </tr>\n",
              "    <tr>\n",
              "      <th>4</th>\n",
              "      <td>A3GEOILWLK86XM</td>\n",
              "      <td>0000031887</td>\n",
              "      <td>CJ</td>\n",
              "      <td>[0, 0]</td>\n",
              "      <td>Thank you Halo Heaven great product for Little...</td>\n",
              "      <td>5</td>\n",
              "      <td>Grammy's Angels Love it</td>\n",
              "      <td>1394841600</td>\n",
              "      <td>03 15, 2014</td>\n",
              "    </tr>\n",
              "  </tbody>\n",
              "</table>\n",
              "</div>\n",
              "      <button class=\"colab-df-convert\" onclick=\"convertToInteractive('df-e9ce05d6-d55d-4c80-b2ba-d218d8228e41')\"\n",
              "              title=\"Convert this dataframe to an interactive table.\"\n",
              "              style=\"display:none;\">\n",
              "        \n",
              "  <svg xmlns=\"http://www.w3.org/2000/svg\" height=\"24px\"viewBox=\"0 0 24 24\"\n",
              "       width=\"24px\">\n",
              "    <path d=\"M0 0h24v24H0V0z\" fill=\"none\"/>\n",
              "    <path d=\"M18.56 5.44l.94 2.06.94-2.06 2.06-.94-2.06-.94-.94-2.06-.94 2.06-2.06.94zm-11 1L8.5 8.5l.94-2.06 2.06-.94-2.06-.94L8.5 2.5l-.94 2.06-2.06.94zm10 10l.94 2.06.94-2.06 2.06-.94-2.06-.94-.94-2.06-.94 2.06-2.06.94z\"/><path d=\"M17.41 7.96l-1.37-1.37c-.4-.4-.92-.59-1.43-.59-.52 0-1.04.2-1.43.59L10.3 9.45l-7.72 7.72c-.78.78-.78 2.05 0 2.83L4 21.41c.39.39.9.59 1.41.59.51 0 1.02-.2 1.41-.59l7.78-7.78 2.81-2.81c.8-.78.8-2.07 0-2.86zM5.41 20L4 18.59l7.72-7.72 1.47 1.35L5.41 20z\"/>\n",
              "  </svg>\n",
              "      </button>\n",
              "      \n",
              "  <style>\n",
              "    .colab-df-container {\n",
              "      display:flex;\n",
              "      flex-wrap:wrap;\n",
              "      gap: 12px;\n",
              "    }\n",
              "\n",
              "    .colab-df-convert {\n",
              "      background-color: #E8F0FE;\n",
              "      border: none;\n",
              "      border-radius: 50%;\n",
              "      cursor: pointer;\n",
              "      display: none;\n",
              "      fill: #1967D2;\n",
              "      height: 32px;\n",
              "      padding: 0 0 0 0;\n",
              "      width: 32px;\n",
              "    }\n",
              "\n",
              "    .colab-df-convert:hover {\n",
              "      background-color: #E2EBFA;\n",
              "      box-shadow: 0px 1px 2px rgba(60, 64, 67, 0.3), 0px 1px 3px 1px rgba(60, 64, 67, 0.15);\n",
              "      fill: #174EA6;\n",
              "    }\n",
              "\n",
              "    [theme=dark] .colab-df-convert {\n",
              "      background-color: #3B4455;\n",
              "      fill: #D2E3FC;\n",
              "    }\n",
              "\n",
              "    [theme=dark] .colab-df-convert:hover {\n",
              "      background-color: #434B5C;\n",
              "      box-shadow: 0px 1px 3px 1px rgba(0, 0, 0, 0.15);\n",
              "      filter: drop-shadow(0px 1px 2px rgba(0, 0, 0, 0.3));\n",
              "      fill: #FFFFFF;\n",
              "    }\n",
              "  </style>\n",
              "\n",
              "      <script>\n",
              "        const buttonEl =\n",
              "          document.querySelector('#df-e9ce05d6-d55d-4c80-b2ba-d218d8228e41 button.colab-df-convert');\n",
              "        buttonEl.style.display =\n",
              "          google.colab.kernel.accessAllowed ? 'block' : 'none';\n",
              "\n",
              "        async function convertToInteractive(key) {\n",
              "          const element = document.querySelector('#df-e9ce05d6-d55d-4c80-b2ba-d218d8228e41');\n",
              "          const dataTable =\n",
              "            await google.colab.kernel.invokeFunction('convertToInteractive',\n",
              "                                                     [key], {});\n",
              "          if (!dataTable) return;\n",
              "\n",
              "          const docLinkHtml = 'Like what you see? Visit the ' +\n",
              "            '<a target=\"_blank\" href=https://colab.research.google.com/notebooks/data_table.ipynb>data table notebook</a>'\n",
              "            + ' to learn more about interactive tables.';\n",
              "          element.innerHTML = '';\n",
              "          dataTable['output_type'] = 'display_data';\n",
              "          await google.colab.output.renderOutput(dataTable, element);\n",
              "          const docLink = document.createElement('div');\n",
              "          docLink.innerHTML = docLinkHtml;\n",
              "          element.appendChild(docLink);\n",
              "        }\n",
              "      </script>\n",
              "    </div>\n",
              "  </div>\n",
              "  "
            ],
            "text/plain": [
              "       reviewerID        asin                 reviewerName helpful  \\\n",
              "0  A1KLRMWW2FWPL4  0000031887  Amazon Customer \"cameramom\"  [0, 0]   \n",
              "1  A2G5TCU2WDFZ65  0000031887              Amazon Customer  [0, 0]   \n",
              "2  A1RLQXYNCMWRWN  0000031887                       Carola  [0, 0]   \n",
              "3   A8U3FAMSJVHS5  0000031887                      Caromcg  [0, 0]   \n",
              "4  A3GEOILWLK86XM  0000031887                           CJ  [0, 0]   \n",
              "\n",
              "                                          reviewText  overall  \\\n",
              "0  This is a great tutu and at a really great pri...        5   \n",
              "1  I bought this for my 4 yr old daughter for dan...        5   \n",
              "2  What can I say... my daughters have it in oran...        5   \n",
              "3  We bought several tutus at once, and they are ...        5   \n",
              "4  Thank you Halo Heaven great product for Little...        5   \n",
              "\n",
              "                         summary  unixReviewTime   reviewTime  \n",
              "0  Great tutu-  not cheaply made      1297468800  02 12, 2011  \n",
              "1                    Very Cute!!      1358553600  01 19, 2013  \n",
              "2       I have buy more than one      1357257600   01 4, 2013  \n",
              "3               Adorable, Sturdy      1398556800  04 27, 2014  \n",
              "4        Grammy's Angels Love it      1394841600  03 15, 2014  "
            ]
          },
          "execution_count": 7,
          "metadata": {},
          "output_type": "execute_result"
        }
      ],
      "source": [
        "df = pd.read_json('Clothing_Shoes_and_Jewelry_5.json', lines=True)\n",
        "df.head()"
      ]
    },
    {
      "cell_type": "code",
      "execution_count": 8,
      "metadata": {
        "colab": {
          "base_uri": "https://localhost:8080/",
          "height": 337
        },
        "id": "OUZ5d9tc4yj1",
        "outputId": "3aab5a11-7785-4a17-dd65-f94da994be09"
      },
      "outputs": [
        {
          "data": {
            "text/html": [
              "\n",
              "  <div id=\"df-4c7060a7-c21c-4a78-b886-857f9267cea1\">\n",
              "    <div class=\"colab-df-container\">\n",
              "      <div>\n",
              "<style scoped>\n",
              "    .dataframe tbody tr th:only-of-type {\n",
              "        vertical-align: middle;\n",
              "    }\n",
              "\n",
              "    .dataframe tbody tr th {\n",
              "        vertical-align: top;\n",
              "    }\n",
              "\n",
              "    .dataframe thead th {\n",
              "        text-align: right;\n",
              "    }\n",
              "</style>\n",
              "<table border=\"1\" class=\"dataframe\">\n",
              "  <thead>\n",
              "    <tr style=\"text-align: right;\">\n",
              "      <th></th>\n",
              "      <th>reviewerID</th>\n",
              "      <th>asin</th>\n",
              "      <th>reviewerName</th>\n",
              "      <th>helpful</th>\n",
              "      <th>reviewText</th>\n",
              "      <th>overall</th>\n",
              "      <th>summary</th>\n",
              "      <th>unixReviewTime</th>\n",
              "      <th>reviewTime</th>\n",
              "    </tr>\n",
              "  </thead>\n",
              "  <tbody>\n",
              "    <tr>\n",
              "      <th>278672</th>\n",
              "      <td>A2DG63DN704LOI</td>\n",
              "      <td>B00KKXCJQU</td>\n",
              "      <td>ESlayd</td>\n",
              "      <td>[0, 1]</td>\n",
              "      <td>I don't normally go ga-ga over a product very ...</td>\n",
              "      <td>5</td>\n",
              "      <td>These have literally changed the way I travel!</td>\n",
              "      <td>1403568000</td>\n",
              "      <td>06 24, 2014</td>\n",
              "    </tr>\n",
              "    <tr>\n",
              "      <th>278673</th>\n",
              "      <td>A1EVV74UQYVKRY</td>\n",
              "      <td>B00KKXCJQU</td>\n",
              "      <td>K. Groh</td>\n",
              "      <td>[0, 0]</td>\n",
              "      <td>I've been traveling back and forth to England ...</td>\n",
              "      <td>5</td>\n",
              "      <td>Wonderful for Better Packing</td>\n",
              "      <td>1403740800</td>\n",
              "      <td>06 26, 2014</td>\n",
              "    </tr>\n",
              "    <tr>\n",
              "      <th>278674</th>\n",
              "      <td>A1UQBFCERIP7VJ</td>\n",
              "      <td>B00KKXCJQU</td>\n",
              "      <td>Margaret Picky</td>\n",
              "      <td>[1, 1]</td>\n",
              "      <td>These are very nice packing cubes and the 18 x...</td>\n",
              "      <td>5</td>\n",
              "      <td>Convenient, lightweight, and durable</td>\n",
              "      <td>1402185600</td>\n",
              "      <td>06 8, 2014</td>\n",
              "    </tr>\n",
              "    <tr>\n",
              "      <th>278675</th>\n",
              "      <td>A22CW0ZHY3NJH8</td>\n",
              "      <td>B00KKXCJQU</td>\n",
              "      <td>Noname</td>\n",
              "      <td>[2, 2]</td>\n",
              "      <td>I am on vacation with my family of four and th...</td>\n",
              "      <td>5</td>\n",
              "      <td>Holds Up Well In Real World Test</td>\n",
              "      <td>1404691200</td>\n",
              "      <td>07 7, 2014</td>\n",
              "    </tr>\n",
              "    <tr>\n",
              "      <th>278676</th>\n",
              "      <td>A30VWT3R25QAVD</td>\n",
              "      <td>B00KKXCJQU</td>\n",
              "      <td>THE-DEADLY-DOG \"Living and Loving Life.\"</td>\n",
              "      <td>[0, 1]</td>\n",
              "      <td>When I signed up to receive a free set of Shac...</td>\n",
              "      <td>5</td>\n",
              "      <td>Don't Travel? Still Way too Useful for 'Averag...</td>\n",
              "      <td>1403481600</td>\n",
              "      <td>06 23, 2014</td>\n",
              "    </tr>\n",
              "  </tbody>\n",
              "</table>\n",
              "</div>\n",
              "      <button class=\"colab-df-convert\" onclick=\"convertToInteractive('df-4c7060a7-c21c-4a78-b886-857f9267cea1')\"\n",
              "              title=\"Convert this dataframe to an interactive table.\"\n",
              "              style=\"display:none;\">\n",
              "        \n",
              "  <svg xmlns=\"http://www.w3.org/2000/svg\" height=\"24px\"viewBox=\"0 0 24 24\"\n",
              "       width=\"24px\">\n",
              "    <path d=\"M0 0h24v24H0V0z\" fill=\"none\"/>\n",
              "    <path d=\"M18.56 5.44l.94 2.06.94-2.06 2.06-.94-2.06-.94-.94-2.06-.94 2.06-2.06.94zm-11 1L8.5 8.5l.94-2.06 2.06-.94-2.06-.94L8.5 2.5l-.94 2.06-2.06.94zm10 10l.94 2.06.94-2.06 2.06-.94-2.06-.94-.94-2.06-.94 2.06-2.06.94z\"/><path d=\"M17.41 7.96l-1.37-1.37c-.4-.4-.92-.59-1.43-.59-.52 0-1.04.2-1.43.59L10.3 9.45l-7.72 7.72c-.78.78-.78 2.05 0 2.83L4 21.41c.39.39.9.59 1.41.59.51 0 1.02-.2 1.41-.59l7.78-7.78 2.81-2.81c.8-.78.8-2.07 0-2.86zM5.41 20L4 18.59l7.72-7.72 1.47 1.35L5.41 20z\"/>\n",
              "  </svg>\n",
              "      </button>\n",
              "      \n",
              "  <style>\n",
              "    .colab-df-container {\n",
              "      display:flex;\n",
              "      flex-wrap:wrap;\n",
              "      gap: 12px;\n",
              "    }\n",
              "\n",
              "    .colab-df-convert {\n",
              "      background-color: #E8F0FE;\n",
              "      border: none;\n",
              "      border-radius: 50%;\n",
              "      cursor: pointer;\n",
              "      display: none;\n",
              "      fill: #1967D2;\n",
              "      height: 32px;\n",
              "      padding: 0 0 0 0;\n",
              "      width: 32px;\n",
              "    }\n",
              "\n",
              "    .colab-df-convert:hover {\n",
              "      background-color: #E2EBFA;\n",
              "      box-shadow: 0px 1px 2px rgba(60, 64, 67, 0.3), 0px 1px 3px 1px rgba(60, 64, 67, 0.15);\n",
              "      fill: #174EA6;\n",
              "    }\n",
              "\n",
              "    [theme=dark] .colab-df-convert {\n",
              "      background-color: #3B4455;\n",
              "      fill: #D2E3FC;\n",
              "    }\n",
              "\n",
              "    [theme=dark] .colab-df-convert:hover {\n",
              "      background-color: #434B5C;\n",
              "      box-shadow: 0px 1px 3px 1px rgba(0, 0, 0, 0.15);\n",
              "      filter: drop-shadow(0px 1px 2px rgba(0, 0, 0, 0.3));\n",
              "      fill: #FFFFFF;\n",
              "    }\n",
              "  </style>\n",
              "\n",
              "      <script>\n",
              "        const buttonEl =\n",
              "          document.querySelector('#df-4c7060a7-c21c-4a78-b886-857f9267cea1 button.colab-df-convert');\n",
              "        buttonEl.style.display =\n",
              "          google.colab.kernel.accessAllowed ? 'block' : 'none';\n",
              "\n",
              "        async function convertToInteractive(key) {\n",
              "          const element = document.querySelector('#df-4c7060a7-c21c-4a78-b886-857f9267cea1');\n",
              "          const dataTable =\n",
              "            await google.colab.kernel.invokeFunction('convertToInteractive',\n",
              "                                                     [key], {});\n",
              "          if (!dataTable) return;\n",
              "\n",
              "          const docLinkHtml = 'Like what you see? Visit the ' +\n",
              "            '<a target=\"_blank\" href=https://colab.research.google.com/notebooks/data_table.ipynb>data table notebook</a>'\n",
              "            + ' to learn more about interactive tables.';\n",
              "          element.innerHTML = '';\n",
              "          dataTable['output_type'] = 'display_data';\n",
              "          await google.colab.output.renderOutput(dataTable, element);\n",
              "          const docLink = document.createElement('div');\n",
              "          docLink.innerHTML = docLinkHtml;\n",
              "          element.appendChild(docLink);\n",
              "        }\n",
              "      </script>\n",
              "    </div>\n",
              "  </div>\n",
              "  "
            ],
            "text/plain": [
              "            reviewerID        asin                              reviewerName  \\\n",
              "278672  A2DG63DN704LOI  B00KKXCJQU                                    ESlayd   \n",
              "278673  A1EVV74UQYVKRY  B00KKXCJQU                                   K. Groh   \n",
              "278674  A1UQBFCERIP7VJ  B00KKXCJQU                            Margaret Picky   \n",
              "278675  A22CW0ZHY3NJH8  B00KKXCJQU                                    Noname   \n",
              "278676  A30VWT3R25QAVD  B00KKXCJQU  THE-DEADLY-DOG \"Living and Loving Life.\"   \n",
              "\n",
              "       helpful                                         reviewText  overall  \\\n",
              "278672  [0, 1]  I don't normally go ga-ga over a product very ...        5   \n",
              "278673  [0, 0]  I've been traveling back and forth to England ...        5   \n",
              "278674  [1, 1]  These are very nice packing cubes and the 18 x...        5   \n",
              "278675  [2, 2]  I am on vacation with my family of four and th...        5   \n",
              "278676  [0, 1]  When I signed up to receive a free set of Shac...        5   \n",
              "\n",
              "                                                  summary  unixReviewTime  \\\n",
              "278672     These have literally changed the way I travel!      1403568000   \n",
              "278673                       Wonderful for Better Packing      1403740800   \n",
              "278674               Convenient, lightweight, and durable      1402185600   \n",
              "278675                   Holds Up Well In Real World Test      1404691200   \n",
              "278676  Don't Travel? Still Way too Useful for 'Averag...      1403481600   \n",
              "\n",
              "         reviewTime  \n",
              "278672  06 24, 2014  \n",
              "278673  06 26, 2014  \n",
              "278674   06 8, 2014  \n",
              "278675   07 7, 2014  \n",
              "278676  06 23, 2014  "
            ]
          },
          "execution_count": 8,
          "metadata": {},
          "output_type": "execute_result"
        }
      ],
      "source": [
        "df.tail()"
      ]
    },
    {
      "cell_type": "code",
      "execution_count": 9,
      "metadata": {
        "colab": {
          "base_uri": "https://localhost:8080/"
        },
        "id": "QQkiHJq1CU_m",
        "outputId": "21c269c8-4678-463c-b141-3486e6f1c5ca"
      },
      "outputs": [
        {
          "data": {
            "text/plain": [
              "5    163240\n",
              "4     58357\n",
              "3     30425\n",
              "2     15463\n",
              "1     11192\n",
              "Name: overall, dtype: int64"
            ]
          },
          "execution_count": 9,
          "metadata": {},
          "output_type": "execute_result"
        }
      ],
      "source": [
        "df['overall'].value_counts()"
      ]
    },
    {
      "cell_type": "code",
      "execution_count": 10,
      "metadata": {
        "id": "9GSn5eACEZh1"
      },
      "outputs": [],
      "source": [
        "sentiment = lambda x: 'Positive' if x>3 else 'Neutral' if x==3 else 'Negative'"
      ]
    },
    {
      "cell_type": "code",
      "execution_count": 11,
      "metadata": {
        "id": "9VUhcsVK5FnU"
      },
      "outputs": [],
      "source": [
        "df['sentiment'] = df['overall'].apply(sentiment)"
      ]
    },
    {
      "cell_type": "code",
      "execution_count": 12,
      "metadata": {
        "colab": {
          "base_uri": "https://localhost:8080/"
        },
        "id": "a-eYGdnMFClY",
        "outputId": "438bfd5b-265c-4b50-b56b-5f2786cb29bf"
      },
      "outputs": [
        {
          "data": {
            "text/plain": [
              "Positive    221597\n",
              "Neutral      30425\n",
              "Negative     26655\n",
              "Name: sentiment, dtype: int64"
            ]
          },
          "execution_count": 12,
          "metadata": {},
          "output_type": "execute_result"
        }
      ],
      "source": [
        "df['sentiment'].value_counts()"
      ]
    },
    {
      "cell_type": "code",
      "execution_count": 13,
      "metadata": {
        "colab": {
          "base_uri": "https://localhost:8080/",
          "height": 1256
        },
        "id": "OsrcPe7rFetp",
        "outputId": "6e395331-ebd3-4f1c-dce2-70fe3e5b7c49"
      },
      "outputs": [
        {
          "data": {
            "text/html": [
              "\n",
              "  <div id=\"df-71d49630-25cd-453e-b02f-dee670958c27\">\n",
              "    <div class=\"colab-df-container\">\n",
              "      <div>\n",
              "<style scoped>\n",
              "    .dataframe tbody tr th:only-of-type {\n",
              "        vertical-align: middle;\n",
              "    }\n",
              "\n",
              "    .dataframe tbody tr th {\n",
              "        vertical-align: top;\n",
              "    }\n",
              "\n",
              "    .dataframe thead th {\n",
              "        text-align: right;\n",
              "    }\n",
              "</style>\n",
              "<table border=\"1\" class=\"dataframe\">\n",
              "  <thead>\n",
              "    <tr style=\"text-align: right;\">\n",
              "      <th></th>\n",
              "      <th>reviewText</th>\n",
              "      <th>summary</th>\n",
              "      <th>overall</th>\n",
              "      <th>sentiment</th>\n",
              "    </tr>\n",
              "  </thead>\n",
              "  <tbody>\n",
              "    <tr>\n",
              "      <th>0</th>\n",
              "      <td>This is a great tutu and at a really great pri...</td>\n",
              "      <td>Great tutu-  not cheaply made</td>\n",
              "      <td>5</td>\n",
              "      <td>Positive</td>\n",
              "    </tr>\n",
              "    <tr>\n",
              "      <th>1</th>\n",
              "      <td>I bought this for my 4 yr old daughter for dan...</td>\n",
              "      <td>Very Cute!!</td>\n",
              "      <td>5</td>\n",
              "      <td>Positive</td>\n",
              "    </tr>\n",
              "    <tr>\n",
              "      <th>2</th>\n",
              "      <td>What can I say... my daughters have it in oran...</td>\n",
              "      <td>I have buy more than one</td>\n",
              "      <td>5</td>\n",
              "      <td>Positive</td>\n",
              "    </tr>\n",
              "    <tr>\n",
              "      <th>3</th>\n",
              "      <td>We bought several tutus at once, and they are ...</td>\n",
              "      <td>Adorable, Sturdy</td>\n",
              "      <td>5</td>\n",
              "      <td>Positive</td>\n",
              "    </tr>\n",
              "    <tr>\n",
              "      <th>4</th>\n",
              "      <td>Thank you Halo Heaven great product for Little...</td>\n",
              "      <td>Grammy's Angels Love it</td>\n",
              "      <td>5</td>\n",
              "      <td>Positive</td>\n",
              "    </tr>\n",
              "    <tr>\n",
              "      <th>...</th>\n",
              "      <td>...</td>\n",
              "      <td>...</td>\n",
              "      <td>...</td>\n",
              "      <td>...</td>\n",
              "    </tr>\n",
              "    <tr>\n",
              "      <th>278672</th>\n",
              "      <td>I don't normally go ga-ga over a product very ...</td>\n",
              "      <td>These have literally changed the way I travel!</td>\n",
              "      <td>5</td>\n",
              "      <td>Positive</td>\n",
              "    </tr>\n",
              "    <tr>\n",
              "      <th>278673</th>\n",
              "      <td>I've been traveling back and forth to England ...</td>\n",
              "      <td>Wonderful for Better Packing</td>\n",
              "      <td>5</td>\n",
              "      <td>Positive</td>\n",
              "    </tr>\n",
              "    <tr>\n",
              "      <th>278674</th>\n",
              "      <td>These are very nice packing cubes and the 18 x...</td>\n",
              "      <td>Convenient, lightweight, and durable</td>\n",
              "      <td>5</td>\n",
              "      <td>Positive</td>\n",
              "    </tr>\n",
              "    <tr>\n",
              "      <th>278675</th>\n",
              "      <td>I am on vacation with my family of four and th...</td>\n",
              "      <td>Holds Up Well In Real World Test</td>\n",
              "      <td>5</td>\n",
              "      <td>Positive</td>\n",
              "    </tr>\n",
              "    <tr>\n",
              "      <th>278676</th>\n",
              "      <td>When I signed up to receive a free set of Shac...</td>\n",
              "      <td>Don't Travel? Still Way too Useful for 'Averag...</td>\n",
              "      <td>5</td>\n",
              "      <td>Positive</td>\n",
              "    </tr>\n",
              "  </tbody>\n",
              "</table>\n",
              "<p>278677 rows × 4 columns</p>\n",
              "</div>\n",
              "      <button class=\"colab-df-convert\" onclick=\"convertToInteractive('df-71d49630-25cd-453e-b02f-dee670958c27')\"\n",
              "              title=\"Convert this dataframe to an interactive table.\"\n",
              "              style=\"display:none;\">\n",
              "        \n",
              "  <svg xmlns=\"http://www.w3.org/2000/svg\" height=\"24px\"viewBox=\"0 0 24 24\"\n",
              "       width=\"24px\">\n",
              "    <path d=\"M0 0h24v24H0V0z\" fill=\"none\"/>\n",
              "    <path d=\"M18.56 5.44l.94 2.06.94-2.06 2.06-.94-2.06-.94-.94-2.06-.94 2.06-2.06.94zm-11 1L8.5 8.5l.94-2.06 2.06-.94-2.06-.94L8.5 2.5l-.94 2.06-2.06.94zm10 10l.94 2.06.94-2.06 2.06-.94-2.06-.94-.94-2.06-.94 2.06-2.06.94z\"/><path d=\"M17.41 7.96l-1.37-1.37c-.4-.4-.92-.59-1.43-.59-.52 0-1.04.2-1.43.59L10.3 9.45l-7.72 7.72c-.78.78-.78 2.05 0 2.83L4 21.41c.39.39.9.59 1.41.59.51 0 1.02-.2 1.41-.59l7.78-7.78 2.81-2.81c.8-.78.8-2.07 0-2.86zM5.41 20L4 18.59l7.72-7.72 1.47 1.35L5.41 20z\"/>\n",
              "  </svg>\n",
              "      </button>\n",
              "      \n",
              "  <style>\n",
              "    .colab-df-container {\n",
              "      display:flex;\n",
              "      flex-wrap:wrap;\n",
              "      gap: 12px;\n",
              "    }\n",
              "\n",
              "    .colab-df-convert {\n",
              "      background-color: #E8F0FE;\n",
              "      border: none;\n",
              "      border-radius: 50%;\n",
              "      cursor: pointer;\n",
              "      display: none;\n",
              "      fill: #1967D2;\n",
              "      height: 32px;\n",
              "      padding: 0 0 0 0;\n",
              "      width: 32px;\n",
              "    }\n",
              "\n",
              "    .colab-df-convert:hover {\n",
              "      background-color: #E2EBFA;\n",
              "      box-shadow: 0px 1px 2px rgba(60, 64, 67, 0.3), 0px 1px 3px 1px rgba(60, 64, 67, 0.15);\n",
              "      fill: #174EA6;\n",
              "    }\n",
              "\n",
              "    [theme=dark] .colab-df-convert {\n",
              "      background-color: #3B4455;\n",
              "      fill: #D2E3FC;\n",
              "    }\n",
              "\n",
              "    [theme=dark] .colab-df-convert:hover {\n",
              "      background-color: #434B5C;\n",
              "      box-shadow: 0px 1px 3px 1px rgba(0, 0, 0, 0.15);\n",
              "      filter: drop-shadow(0px 1px 2px rgba(0, 0, 0, 0.3));\n",
              "      fill: #FFFFFF;\n",
              "    }\n",
              "  </style>\n",
              "\n",
              "      <script>\n",
              "        const buttonEl =\n",
              "          document.querySelector('#df-71d49630-25cd-453e-b02f-dee670958c27 button.colab-df-convert');\n",
              "        buttonEl.style.display =\n",
              "          google.colab.kernel.accessAllowed ? 'block' : 'none';\n",
              "\n",
              "        async function convertToInteractive(key) {\n",
              "          const element = document.querySelector('#df-71d49630-25cd-453e-b02f-dee670958c27');\n",
              "          const dataTable =\n",
              "            await google.colab.kernel.invokeFunction('convertToInteractive',\n",
              "                                                     [key], {});\n",
              "          if (!dataTable) return;\n",
              "\n",
              "          const docLinkHtml = 'Like what you see? Visit the ' +\n",
              "            '<a target=\"_blank\" href=https://colab.research.google.com/notebooks/data_table.ipynb>data table notebook</a>'\n",
              "            + ' to learn more about interactive tables.';\n",
              "          element.innerHTML = '';\n",
              "          dataTable['output_type'] = 'display_data';\n",
              "          await google.colab.output.renderOutput(dataTable, element);\n",
              "          const docLink = document.createElement('div');\n",
              "          docLink.innerHTML = docLinkHtml;\n",
              "          element.appendChild(docLink);\n",
              "        }\n",
              "      </script>\n",
              "    </div>\n",
              "  </div>\n",
              "  "
            ],
            "text/plain": [
              "                                               reviewText  \\\n",
              "0       This is a great tutu and at a really great pri...   \n",
              "1       I bought this for my 4 yr old daughter for dan...   \n",
              "2       What can I say... my daughters have it in oran...   \n",
              "3       We bought several tutus at once, and they are ...   \n",
              "4       Thank you Halo Heaven great product for Little...   \n",
              "...                                                   ...   \n",
              "278672  I don't normally go ga-ga over a product very ...   \n",
              "278673  I've been traveling back and forth to England ...   \n",
              "278674  These are very nice packing cubes and the 18 x...   \n",
              "278675  I am on vacation with my family of four and th...   \n",
              "278676  When I signed up to receive a free set of Shac...   \n",
              "\n",
              "                                                  summary  overall sentiment  \n",
              "0                           Great tutu-  not cheaply made        5  Positive  \n",
              "1                                             Very Cute!!        5  Positive  \n",
              "2                                I have buy more than one        5  Positive  \n",
              "3                                        Adorable, Sturdy        5  Positive  \n",
              "4                                 Grammy's Angels Love it        5  Positive  \n",
              "...                                                   ...      ...       ...  \n",
              "278672     These have literally changed the way I travel!        5  Positive  \n",
              "278673                       Wonderful for Better Packing        5  Positive  \n",
              "278674               Convenient, lightweight, and durable        5  Positive  \n",
              "278675                   Holds Up Well In Real World Test        5  Positive  \n",
              "278676  Don't Travel? Still Way too Useful for 'Averag...        5  Positive  \n",
              "\n",
              "[278677 rows x 4 columns]"
            ]
          },
          "execution_count": 13,
          "metadata": {},
          "output_type": "execute_result"
        },
        {
          "name": "stdout",
          "output_type": "stream",
          "text": [
            "Warning: total number of rows (278677) exceeds max_rows (20000). Limiting to first (20000) rows.\n",
            "Error: Runtime no longer has a reference to this dataframe, please re-run this cell and try again.\n",
            "Error: Runtime no longer has a reference to this dataframe, please re-run this cell and try again.\n",
            "Error: Runtime no longer has a reference to this dataframe, please re-run this cell and try again.\n",
            "Error: Runtime no longer has a reference to this dataframe, please re-run this cell and try again.\n",
            "Error: Runtime no longer has a reference to this dataframe, please re-run this cell and try again.\n"
          ]
        }
      ],
      "source": [
        "df[['reviewText','summary','overall','sentiment']]"
      ]
    },
    {
      "cell_type": "code",
      "execution_count": 14,
      "metadata": {
        "colab": {
          "base_uri": "https://localhost:8080/",
          "height": 296
        },
        "id": "Ft9j_BKFF4Gb",
        "outputId": "9e79b105-3fa4-4f15-b6cc-852398285f65"
      },
      "outputs": [
        {
          "data": {
            "text/plain": [
              "<matplotlib.axes._subplots.AxesSubplot at 0x7fba19aef590>"
            ]
          },
          "execution_count": 14,
          "metadata": {},
          "output_type": "execute_result"
        },
        {
          "data": {
            "image/png": "[encoded data removed]",
            "text/plain": [
              "<Figure size 432x288 with 1 Axes>"
            ]
          },
          "metadata": {
            "needs_background": "light"
          },
          "output_type": "display_data"
        }
      ],
      "source": [
        "sns.countplot(data=df, x='sentiment')"
      ]
    },
    {
      "cell_type": "markdown",
      "metadata": {
        "id": "0UErri0WJvIL"
      },
      "source": [
        "### Preprocessing text"
      ]
    },
    {
      "cell_type": "code",
      "execution_count": 15,
      "metadata": {
        "id": "0thZRr-lGiMT"
      },
      "outputs": [],
      "source": [
        "# preprocessing\n",
        "\n",
        "# remove hltm format\n",
        "df['clean'] = df['reviewText'].apply(lambda x: html_parser.unescape(x))\n",
        "#lower case\n",
        "df['clean'] = df['clean'].apply(lambda x: x.lower())"
      ]
    },
    {
      "cell_type": "code",
      "execution_count": 16,
      "metadata": {
        "id": "kasfwhsmJA3I"
      },
      "outputs": [],
      "source": [
        "apostrophe_dict = {\n",
        "\"ain't\": \"am not / are not\",\n",
        "\"aren't\": \"are not / am not\",\n",
        "\"can't\": \"cannot\",\n",
        "\"can't've\": \"cannot have\",\n",
        "\"'cause\": \"because\",\n",
        "\"could've\": \"could have\",\n",
        "\"couldn't\": \"could not\",\n",
        "\"couldn't've\": \"could not have\",\n",
        "\"didn't\": \"did not\",\n",
        "\"doesn't\": \"does not\",\n",
        "\"don't\": \"do not\",\n",
        "\"hadn't\": \"had not\",\n",
        "\"hadn't've\": \"had not have\",\n",
        "\"hasn't\": \"has not\",\n",
        "\"haven't\": \"have not\",\n",
        "\"he'd\": \"he had / he would\",\n",
        "\"he'd've\": \"he would have\",\n",
        "\"he'll\": \"he shall / he will\",\n",
        "\"he'll've\": \"he shall have / he will have\",\n",
        "\"he's\": \"he has / he is\",\n",
        "\"how'd\": \"how did\",\n",
        "\"how'd'y\": \"how do you\",\n",
        "\"how'll\": \"how will\",\n",
        "\"how's\": \"how has / how is\",\n",
        "\"i'd\": \"I had / I would\",\n",
        "\"i'd've\": \"I would have\",\n",
        "\"i'll\": \"I shall / I will\",\n",
        "\"i'll've\": \"I shall have / I will have\",\n",
        "\"i'm\": \"I am\",\n",
        "\"i've\": \"I have\",\n",
        "\"isn't\": \"is not\",\n",
        "\"it'd\": \"it had / it would\",\n",
        "\"it'd've\": \"it would have\",\n",
        "\"it'll\": \"it shall / it will\",\n",
        "\"it'll've\": \"it shall have / it will have\",\n",
        "\"it's\": \"it has / it is\",\n",
        "\"let's\": \"let us\",\n",
        "\"ma'am\": \"madam\",\n",
        "\"mayn't\": \"may not\",\n",
        "\"might've\": \"might have\",\n",
        "\"mightn't\": \"might not\",\n",
        "\"mightn't've\": \"might not have\",\n",
        "\"must've\": \"must have\",\n",
        "\"mustn't\": \"must not\",\n",
        "\"mustn't've\": \"must not have\",\n",
        "\"needn't\": \"need not\",\n",
        "\"needn't've\": \"need not have\",\n",
        "\"o'clock\": \"of the clock\",\n",
        "\"oughtn't\": \"ought not\",\n",
        "\"oughtn't've\": \"ought not have\",\n",
        "\"shan't\": \"shall not\",\n",
        "\"sha'n't\": \"shall not\",\n",
        "\"shan't've\": \"shall not have\",\n",
        "\"she'd\": \"she had / she would\",\n",
        "\"she'd've\": \"she would have\",\n",
        "\"she'll\": \"she shall / she will\",\n",
        "\"she'll've\": \"she shall have / she will have\",\n",
        "\"she's\": \"she has / she is\",\n",
        "\"should've\": \"should have\",\n",
        "\"shouldn't\": \"should not\",\n",
        "\"shouldn't've\": \"should not have\",\n",
        "\"so've\": \"so have\",\n",
        "\"so's\": \"so as / so is\",\n",
        "\"that'd\": \"that would / that had\",\n",
        "\"that'd've\": \"that would have\",\n",
        "\"that's\": \"that has / that is\",\n",
        "\"there'd\": \"there had / there would\",\n",
        "\"there'd've\": \"there would have\",\n",
        "\"there's\": \"there has / there is\",\n",
        "\"they'd\": \"they had / they would\",\n",
        "\"they'd've\": \"they would have\",\n",
        "\"they'll\": \"they shall / they will\",\n",
        "\"they'll've\": \"they shall have / they will have\",\n",
        "\"they're\": \"they are\",\n",
        "\"they've\": \"they have\",\n",
        "\"to've\": \"to have\",\n",
        "\"wasn't\": \"was not\",\n",
        "\"we'd\": \"we had / we would\",\n",
        "\"we'd've\": \"we would have\",\n",
        "\"we'll\": \"we will\",\n",
        "\"we'll've\": \"we will have\",\n",
        "\"we're\": \"we are\",\n",
        "\"we've\": \"we have\",\n",
        "\"weren't\": \"were not\",\n",
        "\"what'll\": \"what shall / what will\",\n",
        "\"what'll've\": \"what shall have / what will have\",\n",
        "\"what're\": \"what are\",\n",
        "\"what's\": \"what has / what is\",\n",
        "\"what've\": \"what have\",\n",
        "\"when's\": \"when has / when is\",\n",
        "\"when've\": \"when have\",\n",
        "\"where'd\": \"where did\",\n",
        "\"where's\": \"where has / where is\",\n",
        "\"where've\": \"where have\",\n",
        "\"who'll\": \"who shall / who will\",\n",
        "\"who'll've\": \"who shall have / who will have\",\n",
        "\"who's\": \"who has / who is\",\n",
        "\"who've\": \"who have\",\n",
        "\"why's\": \"why has / why is\",\n",
        "\"why've\": \"why have\",\n",
        "\"will've\": \"will have\",\n",
        "\"won't\": \"will not\",\n",
        "\"won't've\": \"will not have\",\n",
        "\"would've\": \"would have\",\n",
        "\"wouldn't\": \"would not\",\n",
        "\"wouldn't've\": \"would not have\",\n",
        "\"y'all\": \"you all\",\n",
        "\"y'all'd\": \"you all would\",\n",
        "\"y'all'd've\": \"you all would have\",\n",
        "\"y'all're\": \"you all are\",\n",
        "\"y'all've\": \"you all have\",\n",
        "\"you'd\": \"you had / you would\",\n",
        "\"you'd've\": \"you would have\",\n",
        "\"you'll\": \"you shall / you will\",\n",
        "\"you'll've\": \"you shall have / you will have\",\n",
        "\"you're\": \"you are\",\n",
        "\"you've\": \"you have\"\n",
        "}"
      ]
    },
    {
      "cell_type": "code",
      "execution_count": 17,
      "metadata": {
        "id": "XszO6eCjJJZx"
      },
      "outputs": [],
      "source": [
        "# apostrophe lookup\n",
        "def lookup_dict(text, dictionary):\n",
        "    for word in text.split():\n",
        "        if word.lower() in dictionary:\n",
        "            if word.lower() in text.split():\n",
        "                text = text.replace(word, dictionary[word.lower()])\n",
        "    return text"
      ]
    },
    {
      "cell_type": "code",
      "execution_count": 18,
      "metadata": {
        "id": "Ls99Mp-fJMKi"
      },
      "outputs": [],
      "source": [
        "df['clean'] = df['clean'].apply(lambda x: lookup_dict(x,apostrophe_dict))"
      ]
    },
    {
      "cell_type": "code",
      "execution_count": 19,
      "metadata": {
        "id": "L0bjh5_5JSWu"
      },
      "outputs": [],
      "source": [
        "short_word_dict = {\n",
        "\"121\": \"one to one\",\n",
        "\"a/s/l\": \"age, sex, location\",\n",
        "\"adn\": \"any day now\",\n",
        "\"afaik\": \"as far as I know\",\n",
        "\"afk\": \"away from keyboard\",\n",
        "\"aight\": \"alright\",\n",
        "\"alol\": \"actually laughing out loud\",\n",
        "\"b4\": \"before\",\n",
        "\"b4n\": \"bye for now\",\n",
        "\"bak\": \"back at the keyboard\",\n",
        "\"bf\": \"boyfriend\",\n",
        "\"bff\": \"best friends forever\",\n",
        "\"bfn\": \"bye for now\",\n",
        "\"bg\": \"big grin\",\n",
        "\"bta\": \"but then again\",\n",
        "\"btw\": \"by the way\",\n",
        "\"cid\": \"crying in disgrace\",\n",
        "\"cnp\": \"continued in my next post\",\n",
        "\"cp\": \"chat post\",\n",
        "\"cu\": \"see you\",\n",
        "\"cul\": \"see you later\",\n",
        "\"cul8r\": \"see you later\",\n",
        "\"cya\": \"bye\",\n",
        "\"cyo\": \"see you online\",\n",
        "\"dbau\": \"doing business as usual\",\n",
        "\"fud\": \"fear, uncertainty, and doubt\",\n",
        "\"fwiw\": \"for what it's worth\",\n",
        "\"fyi\": \"for your information\",\n",
        "\"g\": \"grin\",\n",
        "\"g2g\": \"got to go\",\n",
        "\"ga\": \"go ahead\",\n",
        "\"gal\": \"get a life\",\n",
        "\"gf\": \"girlfriend\",\n",
        "\"gfn\": \"gone for now\",\n",
        "\"gmbo\": \"giggling my butt off\",\n",
        "\"gmta\": \"great minds think alike\",\n",
        "\"h8\": \"hate\",\n",
        "\"hagn\": \"have a good night\",\n",
        "\"hdop\": \"help delete online predators\",\n",
        "\"hhis\": \"hanging head in shame\",\n",
        "\"iac\": \"in any case\",\n",
        "\"ianal\": \"I am not a lawyer\",\n",
        "\"ic\": \"I see\",\n",
        "\"idk\": \"I don't know\",\n",
        "\"imao\": \"in my arrogant opinion\",\n",
        "\"imnsho\": \"in my not so humble opinion\",\n",
        "\"imo\": \"in my opinion\",\n",
        "\"iow\": \"in other words\",\n",
        "\"ipn\": \"I’m posting naked\",\n",
        "\"irl\": \"in real life\",\n",
        "\"jk\": \"just kidding\",\n",
        "\"l8r\": \"later\",\n",
        "\"ld\": \"later, dude\",\n",
        "\"ldr\": \"long distance relationship\",\n",
        "\"llta\": \"lots and lots of thunderous applause\",\n",
        "\"lmao\": \"laugh my ass off\",\n",
        "\"lmirl\": \"let's meet in real life\",\n",
        "\"lol\": \"laugh out loud\",\n",
        "\"ltr\": \"longterm relationship\",\n",
        "\"lulab\": \"love you like a brother\",\n",
        "\"lulas\": \"love you like a sister\",\n",
        "\"luv\": \"love\",\n",
        "\"m/f\": \"male or female\",\n",
        "\"m8\": \"mate\",\n",
        "\"milf\": \"mother I would like to fuck\",\n",
        "\"oll\": \"online love\",\n",
        "\"omg\": \"oh my god\",\n",
        "\"otoh\": \"on the other hand\",\n",
        "\"pir\": \"parent in room\",\n",
        "\"ppl\": \"people\",\n",
        "\"r\": \"are\",\n",
        "\"rofl\": \"roll on the floor laughing\",\n",
        "\"rpg\": \"role playing games\",\n",
        "\"ru\": \"are you\",\n",
        "\"shid\": \"slaps head in disgust\",\n",
        "\"somy\": \"sick of me yet\",\n",
        "\"sot\": \"short of time\",\n",
        "\"thanx\": \"thanks\",\n",
        "\"thx\": \"thanks\",\n",
        "\"ttyl\": \"talk to you later\",\n",
        "\"u\": \"you\",\n",
        "\"ur\": \"you are\",\n",
        "\"uw\": \"you’re welcome\",\n",
        "\"wb\": \"welcome back\",\n",
        "\"wfm\": \"works for me\",\n",
        "\"wibni\": \"wouldn't it be nice if\",\n",
        "\"wtf\": \"what the fuck\",\n",
        "\"wtg\": \"way to go\",\n",
        "\"wtgp\": \"want to go private\",\n",
        "\"ym\": \"young man\",\n",
        "\"gr8\": \"great\"\n",
        "}"
      ]
    },
    {
      "cell_type": "code",
      "execution_count": 20,
      "metadata": {
        "id": "1iSdgpMkJXi8"
      },
      "outputs": [],
      "source": [
        "# short word lookup\n",
        "df['clean'] = df['clean'].apply(lambda x: lookup_dict(x,short_word_dict))"
      ]
    },
    {
      "cell_type": "code",
      "execution_count": 21,
      "metadata": {
        "id": "EPUlIeE7JfGb"
      },
      "outputs": [],
      "source": [
        "emoticon_dict = {\n",
        "\":)\": \"happy\",\n",
        "\":‑)\": \"happy\",\n",
        "\":-]\": \"happy\",\n",
        "\":-3\": \"happy\",\n",
        "\":->\": \"happy\",\n",
        "\"8-)\": \"happy\",\n",
        "\":-}\": \"happy\",\n",
        "\":o)\": \"happy\",\n",
        "\":c)\": \"happy\",\n",
        "\":^)\": \"happy\",\n",
        "\"=]\": \"happy\",\n",
        "\"=)\": \"happy\",\n",
        "\"<3\": \"happy\",\n",
        "\":-(\": \"sad\",\n",
        "\":(\": \"sad\",\n",
        "\":c\": \"sad\",\n",
        "\":<\": \"sad\",\n",
        "\":[\": \"sad\",\n",
        "\">:[\": \"sad\",\n",
        "\":{\": \"sad\",\n",
        "\">:(\": \"sad\",\n",
        "\":-c\": \"sad\",\n",
        "\":-< \": \"sad\",\n",
        "\":-[\": \"sad\",\n",
        "\":-||\": \"sad\"\n",
        "}"
      ]
    },
    {
      "cell_type": "code",
      "execution_count": 22,
      "metadata": {
        "id": "_6COW8QkJl-V"
      },
      "outputs": [],
      "source": [
        "# emoticon lookup\n",
        "df['clean'] = df['clean'].apply(lambda x: lookup_dict(x,emoticon_dict))"
      ]
    },
    {
      "cell_type": "code",
      "execution_count": 23,
      "metadata": {
        "id": "IhoxGdYxJs7z"
      },
      "outputs": [],
      "source": [
        "#  replacing punctuations with space\n",
        "df['clean'] = df['clean'].apply(lambda x: re.sub(r'[^\\w\\s]',' ',x))"
      ]
    },
    {
      "cell_type": "code",
      "execution_count": 24,
      "metadata": {
        "id": "6uTlJObHKoDu"
      },
      "outputs": [],
      "source": [
        "# replacing special characters\n",
        "df['clean'] = df['clean'].apply(lambda x: re.sub(r'[^a-zA-Z0-9]',' ',x))"
      ]
    },
    {
      "cell_type": "code",
      "execution_count": 25,
      "metadata": {
        "id": "4Cs8w2-CK1M_"
      },
      "outputs": [],
      "source": [
        "# remove number\n",
        "df['clean'] = df['clean'].apply(lambda x: re.sub(r'[^a-zA-Z]',' ',x))"
      ]
    },
    {
      "cell_type": "code",
      "execution_count": 26,
      "metadata": {
        "colab": {
          "base_uri": "https://localhost:8080/"
        },
        "id": "3M8PmgdHL84M",
        "outputId": "b610da15-b47f-41ee-ed4d-8776b5b06350"
      },
      "outputs": [
        {
          "name": "stderr",
          "output_type": "stream",
          "text": [
            "[nltk_data] Downloading package punkt to /root/nltk_data...\n",
            "[nltk_data]   Unzipping tokenizers/punkt.zip.\n"
          ]
        },
        {
          "data": {
            "text/plain": [
              "True"
            ]
          },
          "execution_count": 26,
          "metadata": {},
          "output_type": "execute_result"
        }
      ],
      "source": [
        "nltk.download('punkt')"
      ]
    },
    {
      "cell_type": "code",
      "execution_count": 27,
      "metadata": {
        "id": "e-PY1nsLLMo-"
      },
      "outputs": [],
      "source": [
        "# create token\n",
        "df['text_token'] = df['clean'].apply(lambda x: word_tokenize(x))"
      ]
    },
    {
      "cell_type": "code",
      "execution_count": 28,
      "metadata": {
        "colab": {
          "base_uri": "https://localhost:8080/",
          "height": 424
        },
        "id": "Roz2aZ39L1On",
        "outputId": "1fbf6c10-407b-4273-8b05-a78e1f70ab53"
      },
      "outputs": [
        {
          "data": {
            "text/html": [
              "\n",
              "  <div id=\"df-ae08b25f-921c-49dc-b1ea-db3b3b8ba322\">\n",
              "    <div class=\"colab-df-container\">\n",
              "      <div>\n",
              "<style scoped>\n",
              "    .dataframe tbody tr th:only-of-type {\n",
              "        vertical-align: middle;\n",
              "    }\n",
              "\n",
              "    .dataframe tbody tr th {\n",
              "        vertical-align: top;\n",
              "    }\n",
              "\n",
              "    .dataframe thead th {\n",
              "        text-align: right;\n",
              "    }\n",
              "</style>\n",
              "<table border=\"1\" class=\"dataframe\">\n",
              "  <thead>\n",
              "    <tr style=\"text-align: right;\">\n",
              "      <th></th>\n",
              "      <th>reviewText</th>\n",
              "      <th>clean</th>\n",
              "      <th>text_token</th>\n",
              "    </tr>\n",
              "  </thead>\n",
              "  <tbody>\n",
              "    <tr>\n",
              "      <th>0</th>\n",
              "      <td>This is a great tutu and at a really great pri...</td>\n",
              "      <td>this is a great tutu and at a really great pri...</td>\n",
              "      <td>[this, is, a, great, tutu, and, at, a, really,...</td>\n",
              "    </tr>\n",
              "    <tr>\n",
              "      <th>1</th>\n",
              "      <td>I bought this for my 4 yr old daughter for dan...</td>\n",
              "      <td>i bought this for my   yr old daughter for dan...</td>\n",
              "      <td>[i, bought, this, for, my, yr, old, daughter, ...</td>\n",
              "    </tr>\n",
              "    <tr>\n",
              "      <th>2</th>\n",
              "      <td>What can I say... my daughters have it in oran...</td>\n",
              "      <td>what can i say    my daughters have it in oran...</td>\n",
              "      <td>[what, can, i, say, my, daughters, have, it, i...</td>\n",
              "    </tr>\n",
              "    <tr>\n",
              "      <th>3</th>\n",
              "      <td>We bought several tutus at once, and they are ...</td>\n",
              "      <td>we bought several tutus at once  and they are ...</td>\n",
              "      <td>[we, bought, several, tutus, at, once, and, th...</td>\n",
              "    </tr>\n",
              "    <tr>\n",
              "      <th>4</th>\n",
              "      <td>Thank you Halo Heaven great product for Little...</td>\n",
              "      <td>thank you halo heaven great product for little...</td>\n",
              "      <td>[thank, you, halo, heaven, great, product, for...</td>\n",
              "    </tr>\n",
              "    <tr>\n",
              "      <th>...</th>\n",
              "      <td>...</td>\n",
              "      <td>...</td>\n",
              "      <td>...</td>\n",
              "    </tr>\n",
              "    <tr>\n",
              "      <th>278672</th>\n",
              "      <td>I don't normally go ga-ga over a product very ...</td>\n",
              "      <td>i do not normally go ga ga over a product very...</td>\n",
              "      <td>[i, do, not, normally, go, ga, ga, over, a, pr...</td>\n",
              "    </tr>\n",
              "    <tr>\n",
              "      <th>278673</th>\n",
              "      <td>I've been traveling back and forth to England ...</td>\n",
              "      <td>I have been traveling back and forth to englan...</td>\n",
              "      <td>[I, have, been, traveling, back, and, forth, t...</td>\n",
              "    </tr>\n",
              "    <tr>\n",
              "      <th>278674</th>\n",
              "      <td>These are very nice packing cubes and the 18 x...</td>\n",
              "      <td>these are very nice packing cubes and the    x...</td>\n",
              "      <td>[these, are, very, nice, packing, cubes, and, ...</td>\n",
              "    </tr>\n",
              "    <tr>\n",
              "      <th>278675</th>\n",
              "      <td>I am on vacation with my family of four and th...</td>\n",
              "      <td>i am on vacation with my family of four and th...</td>\n",
              "      <td>[i, am, on, vacation, with, my, family, of, fo...</td>\n",
              "    </tr>\n",
              "    <tr>\n",
              "      <th>278676</th>\n",
              "      <td>When I signed up to receive a free set of Shac...</td>\n",
              "      <td>when i signed up to receive a free set of shac...</td>\n",
              "      <td>[when, i, signed, up, to, receive, a, free, se...</td>\n",
              "    </tr>\n",
              "  </tbody>\n",
              "</table>\n",
              "<p>278677 rows × 3 columns</p>\n",
              "</div>\n",
              "      <button class=\"colab-df-convert\" onclick=\"convertToInteractive('df-ae08b25f-921c-49dc-b1ea-db3b3b8ba322')\"\n",
              "              title=\"Convert this dataframe to an interactive table.\"\n",
              "              style=\"display:none;\">\n",
              "        \n",
              "  <svg xmlns=\"http://www.w3.org/2000/svg\" height=\"24px\"viewBox=\"0 0 24 24\"\n",
              "       width=\"24px\">\n",
              "    <path d=\"M0 0h24v24H0V0z\" fill=\"none\"/>\n",
              "    <path d=\"M18.56 5.44l.94 2.06.94-2.06 2.06-.94-2.06-.94-.94-2.06-.94 2.06-2.06.94zm-11 1L8.5 8.5l.94-2.06 2.06-.94-2.06-.94L8.5 2.5l-.94 2.06-2.06.94zm10 10l.94 2.06.94-2.06 2.06-.94-2.06-.94-.94-2.06-.94 2.06-2.06.94z\"/><path d=\"M17.41 7.96l-1.37-1.37c-.4-.4-.92-.59-1.43-.59-.52 0-1.04.2-1.43.59L10.3 9.45l-7.72 7.72c-.78.78-.78 2.05 0 2.83L4 21.41c.39.39.9.59 1.41.59.51 0 1.02-.2 1.41-.59l7.78-7.78 2.81-2.81c.8-.78.8-2.07 0-2.86zM5.41 20L4 18.59l7.72-7.72 1.47 1.35L5.41 20z\"/>\n",
              "  </svg>\n",
              "      </button>\n",
              "      \n",
              "  <style>\n",
              "    .colab-df-container {\n",
              "      display:flex;\n",
              "      flex-wrap:wrap;\n",
              "      gap: 12px;\n",
              "    }\n",
              "\n",
              "    .colab-df-convert {\n",
              "      background-color: #E8F0FE;\n",
              "      border: none;\n",
              "      border-radius: 50%;\n",
              "      cursor: pointer;\n",
              "      display: none;\n",
              "      fill: #1967D2;\n",
              "      height: 32px;\n",
              "      padding: 0 0 0 0;\n",
              "      width: 32px;\n",
              "    }\n",
              "\n",
              "    .colab-df-convert:hover {\n",
              "      background-color: #E2EBFA;\n",
              "      box-shadow: 0px 1px 2px rgba(60, 64, 67, 0.3), 0px 1px 3px 1px rgba(60, 64, 67, 0.15);\n",
              "      fill: #174EA6;\n",
              "    }\n",
              "\n",
              "    [theme=dark] .colab-df-convert {\n",
              "      background-color: #3B4455;\n",
              "      fill: #D2E3FC;\n",
              "    }\n",
              "\n",
              "    [theme=dark] .colab-df-convert:hover {\n",
              "      background-color: #434B5C;\n",
              "      box-shadow: 0px 1px 3px 1px rgba(0, 0, 0, 0.15);\n",
              "      filter: drop-shadow(0px 1px 2px rgba(0, 0, 0, 0.3));\n",
              "      fill: #FFFFFF;\n",
              "    }\n",
              "  </style>\n",
              "\n",
              "      <script>\n",
              "        const buttonEl =\n",
              "          document.querySelector('#df-ae08b25f-921c-49dc-b1ea-db3b3b8ba322 button.colab-df-convert');\n",
              "        buttonEl.style.display =\n",
              "          google.colab.kernel.accessAllowed ? 'block' : 'none';\n",
              "\n",
              "        async function convertToInteractive(key) {\n",
              "          const element = document.querySelector('#df-ae08b25f-921c-49dc-b1ea-db3b3b8ba322');\n",
              "          const dataTable =\n",
              "            await google.colab.kernel.invokeFunction('convertToInteractive',\n",
              "                                                     [key], {});\n",
              "          if (!dataTable) return;\n",
              "\n",
              "          const docLinkHtml = 'Like what you see? Visit the ' +\n",
              "            '<a target=\"_blank\" href=https://colab.research.google.com/notebooks/data_table.ipynb>data table notebook</a>'\n",
              "            + ' to learn more about interactive tables.';\n",
              "          element.innerHTML = '';\n",
              "          dataTable['output_type'] = 'display_data';\n",
              "          await google.colab.output.renderOutput(dataTable, element);\n",
              "          const docLink = document.createElement('div');\n",
              "          docLink.innerHTML = docLinkHtml;\n",
              "          element.appendChild(docLink);\n",
              "        }\n",
              "      </script>\n",
              "    </div>\n",
              "  </div>\n",
              "  "
            ],
            "text/plain": [
              "                                               reviewText  \\\n",
              "0       This is a great tutu and at a really great pri...   \n",
              "1       I bought this for my 4 yr old daughter for dan...   \n",
              "2       What can I say... my daughters have it in oran...   \n",
              "3       We bought several tutus at once, and they are ...   \n",
              "4       Thank you Halo Heaven great product for Little...   \n",
              "...                                                   ...   \n",
              "278672  I don't normally go ga-ga over a product very ...   \n",
              "278673  I've been traveling back and forth to England ...   \n",
              "278674  These are very nice packing cubes and the 18 x...   \n",
              "278675  I am on vacation with my family of four and th...   \n",
              "278676  When I signed up to receive a free set of Shac...   \n",
              "\n",
              "                                                    clean  \\\n",
              "0       this is a great tutu and at a really great pri...   \n",
              "1       i bought this for my   yr old daughter for dan...   \n",
              "2       what can i say    my daughters have it in oran...   \n",
              "3       we bought several tutus at once  and they are ...   \n",
              "4       thank you halo heaven great product for little...   \n",
              "...                                                   ...   \n",
              "278672  i do not normally go ga ga over a product very...   \n",
              "278673  I have been traveling back and forth to englan...   \n",
              "278674  these are very nice packing cubes and the    x...   \n",
              "278675  i am on vacation with my family of four and th...   \n",
              "278676  when i signed up to receive a free set of shac...   \n",
              "\n",
              "                                               text_token  \n",
              "0       [this, is, a, great, tutu, and, at, a, really,...  \n",
              "1       [i, bought, this, for, my, yr, old, daughter, ...  \n",
              "2       [what, can, i, say, my, daughters, have, it, i...  \n",
              "3       [we, bought, several, tutus, at, once, and, th...  \n",
              "4       [thank, you, halo, heaven, great, product, for...  \n",
              "...                                                   ...  \n",
              "278672  [i, do, not, normally, go, ga, ga, over, a, pr...  \n",
              "278673  [I, have, been, traveling, back, and, forth, t...  \n",
              "278674  [these, are, very, nice, packing, cubes, and, ...  \n",
              "278675  [i, am, on, vacation, with, my, family, of, fo...  \n",
              "278676  [when, i, signed, up, to, receive, a, free, se...  \n",
              "\n",
              "[278677 rows x 3 columns]"
            ]
          },
          "execution_count": 28,
          "metadata": {},
          "output_type": "execute_result"
        }
      ],
      "source": [
        "df[['reviewText','clean','text_token']]"
      ]
    },
    {
      "cell_type": "code",
      "execution_count": 29,
      "metadata": {
        "colab": {
          "base_uri": "https://localhost:8080/"
        },
        "id": "l_DrqW8PPOBY",
        "outputId": "538da90b-d9a9-480a-c191-21a0e9564176"
      },
      "outputs": [
        {
          "name": "stderr",
          "output_type": "stream",
          "text": [
            "[nltk_data] Downloading package stopwords to /root/nltk_data...\n",
            "[nltk_data]   Unzipping corpora/stopwords.zip.\n"
          ]
        },
        {
          "data": {
            "text/plain": [
              "True"
            ]
          },
          "execution_count": 29,
          "metadata": {},
          "output_type": "execute_result"
        }
      ],
      "source": [
        "nltk.download('stopwords')"
      ]
    },
    {
      "cell_type": "code",
      "execution_count": 30,
      "metadata": {
        "id": "flp4KiflPFqS"
      },
      "outputs": [],
      "source": [
        "stop_words = set(stopwords.words('english'))"
      ]
    },
    {
      "cell_type": "code",
      "execution_count": 31,
      "metadata": {
        "id": "xZS6MScjPL3M"
      },
      "outputs": [],
      "source": [
        "df['text_token_stopword'] = df['text_token'].apply(lambda x: [word for word in x if not word in stop_words])"
      ]
    },
    {
      "cell_type": "code",
      "execution_count": 32,
      "metadata": {
        "id": "BmrJdlnbPc8L"
      },
      "outputs": [],
      "source": [
        "stemming = PorterStemmer()\n",
        "lemmatizing = WordNetLemmatizer()"
      ]
    },
    {
      "cell_type": "code",
      "execution_count": 33,
      "metadata": {
        "id": "ZoPzR09uP0xA"
      },
      "outputs": [],
      "source": [
        "df['text_stemmed'] = df['text_token_stopword'].apply(lambda x: ' '.join([stemming.stem(i) for i in x]))"
      ]
    },
    {
      "cell_type": "code",
      "execution_count": 34,
      "metadata": {
        "colab": {
          "base_uri": "https://localhost:8080/"
        },
        "id": "rcHEQtMuRckK",
        "outputId": "40ec1abe-8f0a-42cd-b5e0-9773c3bfdff9"
      },
      "outputs": [
        {
          "name": "stderr",
          "output_type": "stream",
          "text": [
            "[nltk_data] Downloading package wordnet to /root/nltk_data...\n",
            "[nltk_data] Downloading package omw-1.4 to /root/nltk_data...\n"
          ]
        },
        {
          "data": {
            "text/plain": [
              "True"
            ]
          },
          "execution_count": 34,
          "metadata": {},
          "output_type": "execute_result"
        }
      ],
      "source": [
        "nltk.download('wordnet')\n",
        "nltk.download('omw-1.4')"
      ]
    },
    {
      "cell_type": "code",
      "execution_count": 35,
      "metadata": {
        "id": "fuUfjs6BQYzY"
      },
      "outputs": [],
      "source": [
        "df['text_lematized'] = df['text_token_stopword'].apply(lambda x: ' '.join([lemmatizing.lemmatize(i) for i in x]))"
      ]
    },
    {
      "cell_type": "markdown",
      "metadata": {
        "id": "UKtUtPgDXdOZ"
      },
      "source": [
        "### Sentiment Analysis"
      ]
    },
    {
      "cell_type": "code",
      "execution_count": 36,
      "metadata": {
        "id": "MJbpMp4TQkDI"
      },
      "outputs": [],
      "source": [
        "# df_1 = df.sample(frac = 0.7)\n",
        "# df_2 = df.drop(df_1.index)"
      ]
    },
    {
      "cell_type": "code",
      "execution_count": 37,
      "metadata": {
        "id": "c0lP7m7eWJhX"
      },
      "outputs": [],
      "source": [
        "sentiment  = {'Positive': 0,'Neutral': 1,'Negative':2} \n",
        "df.sentiment = [sentiment[item] for item in df.sentiment] "
      ]
    },
    {
      "cell_type": "code",
      "execution_count": 38,
      "metadata": {
        "colab": {
          "base_uri": "https://localhost:8080/",
          "height": 687
        },
        "id": "rTCC3bPJXop9",
        "outputId": "f0d967b6-943e-48d6-c900-436b0efd6e56"
      },
      "outputs": [
        {
          "data": {
            "text/html": [
              "\n",
              "  <div id=\"df-2501f0d7-1ee3-463f-83f1-020d07d244f4\">\n",
              "    <div class=\"colab-df-container\">\n",
              "      <div>\n",
              "<style scoped>\n",
              "    .dataframe tbody tr th:only-of-type {\n",
              "        vertical-align: middle;\n",
              "    }\n",
              "\n",
              "    .dataframe tbody tr th {\n",
              "        vertical-align: top;\n",
              "    }\n",
              "\n",
              "    .dataframe thead th {\n",
              "        text-align: right;\n",
              "    }\n",
              "</style>\n",
              "<table border=\"1\" class=\"dataframe\">\n",
              "  <thead>\n",
              "    <tr style=\"text-align: right;\">\n",
              "      <th></th>\n",
              "      <th>reviewerID</th>\n",
              "      <th>asin</th>\n",
              "      <th>reviewerName</th>\n",
              "      <th>helpful</th>\n",
              "      <th>reviewText</th>\n",
              "      <th>overall</th>\n",
              "      <th>summary</th>\n",
              "      <th>unixReviewTime</th>\n",
              "      <th>reviewTime</th>\n",
              "      <th>sentiment</th>\n",
              "      <th>clean</th>\n",
              "      <th>text_token</th>\n",
              "      <th>text_token_stopword</th>\n",
              "      <th>text_stemmed</th>\n",
              "      <th>text_lematized</th>\n",
              "    </tr>\n",
              "  </thead>\n",
              "  <tbody>\n",
              "    <tr>\n",
              "      <th>0</th>\n",
              "      <td>A1KLRMWW2FWPL4</td>\n",
              "      <td>0000031887</td>\n",
              "      <td>Amazon Customer \"cameramom\"</td>\n",
              "      <td>[0, 0]</td>\n",
              "      <td>This is a great tutu and at a really great pri...</td>\n",
              "      <td>5</td>\n",
              "      <td>Great tutu-  not cheaply made</td>\n",
              "      <td>1297468800</td>\n",
              "      <td>02 12, 2011</td>\n",
              "      <td>0</td>\n",
              "      <td>this is a great tutu and at a really great pri...</td>\n",
              "      <td>[this, is, a, great, tutu, and, at, a, really,...</td>\n",
              "      <td>[great, tutu, really, great, price, look, chea...</td>\n",
              "      <td>great tutu realli great price look cheap i gla...</td>\n",
              "      <td>great tutu really great price look cheap I gla...</td>\n",
              "    </tr>\n",
              "    <tr>\n",
              "      <th>1</th>\n",
              "      <td>A2G5TCU2WDFZ65</td>\n",
              "      <td>0000031887</td>\n",
              "      <td>Amazon Customer</td>\n",
              "      <td>[0, 0]</td>\n",
              "      <td>I bought this for my 4 yr old daughter for dan...</td>\n",
              "      <td>5</td>\n",
              "      <td>Very Cute!!</td>\n",
              "      <td>1358553600</td>\n",
              "      <td>01 19, 2013</td>\n",
              "      <td>0</td>\n",
              "      <td>i bought this for my   yr old daughter for dan...</td>\n",
              "      <td>[i, bought, this, for, my, yr, old, daughter, ...</td>\n",
              "      <td>[bought, yr, old, daughter, dance, class, wore...</td>\n",
              "      <td>bought yr old daughter danc class wore today f...</td>\n",
              "      <td>bought yr old daughter dance class wore today ...</td>\n",
              "    </tr>\n",
              "    <tr>\n",
              "      <th>2</th>\n",
              "      <td>A1RLQXYNCMWRWN</td>\n",
              "      <td>0000031887</td>\n",
              "      <td>Carola</td>\n",
              "      <td>[0, 0]</td>\n",
              "      <td>What can I say... my daughters have it in oran...</td>\n",
              "      <td>5</td>\n",
              "      <td>I have buy more than one</td>\n",
              "      <td>1357257600</td>\n",
              "      <td>01 4, 2013</td>\n",
              "      <td>0</td>\n",
              "      <td>what can i say    my daughters have it in oran...</td>\n",
              "      <td>[what, can, i, say, my, daughters, have, it, i...</td>\n",
              "      <td>[say, daughters, orange, black, white, pink, t...</td>\n",
              "      <td>say daughter orang black white pink think buy ...</td>\n",
              "      <td>say daughter orange black white pink thinking ...</td>\n",
              "    </tr>\n",
              "    <tr>\n",
              "      <th>3</th>\n",
              "      <td>A8U3FAMSJVHS5</td>\n",
              "      <td>0000031887</td>\n",
              "      <td>Caromcg</td>\n",
              "      <td>[0, 0]</td>\n",
              "      <td>We bought several tutus at once, and they are ...</td>\n",
              "      <td>5</td>\n",
              "      <td>Adorable, Sturdy</td>\n",
              "      <td>1398556800</td>\n",
              "      <td>04 27, 2014</td>\n",
              "      <td>0</td>\n",
              "      <td>we bought several tutus at once  and they are ...</td>\n",
              "      <td>[we, bought, several, tutus, at, once, and, th...</td>\n",
              "      <td>[bought, several, tutus, got, high, reviews, s...</td>\n",
              "      <td>bought sever tutu got high review sturdi seemi...</td>\n",
              "      <td>bought several tutu got high review sturdy see...</td>\n",
              "    </tr>\n",
              "    <tr>\n",
              "      <th>4</th>\n",
              "      <td>A3GEOILWLK86XM</td>\n",
              "      <td>0000031887</td>\n",
              "      <td>CJ</td>\n",
              "      <td>[0, 0]</td>\n",
              "      <td>Thank you Halo Heaven great product for Little...</td>\n",
              "      <td>5</td>\n",
              "      <td>Grammy's Angels Love it</td>\n",
              "      <td>1394841600</td>\n",
              "      <td>03 15, 2014</td>\n",
              "      <td>0</td>\n",
              "      <td>thank you halo heaven great product for little...</td>\n",
              "      <td>[thank, you, halo, heaven, great, product, for...</td>\n",
              "      <td>[thank, halo, heaven, great, product, little, ...</td>\n",
              "      <td>thank halo heaven great product littl girl gre...</td>\n",
              "      <td>thank halo heaven great product little girl gr...</td>\n",
              "    </tr>\n",
              "  </tbody>\n",
              "</table>\n",
              "</div>\n",
              "      <button class=\"colab-df-convert\" onclick=\"convertToInteractive('df-2501f0d7-1ee3-463f-83f1-020d07d244f4')\"\n",
              "              title=\"Convert this dataframe to an interactive table.\"\n",
              "              style=\"display:none;\">\n",
              "        \n",
              "  <svg xmlns=\"http://www.w3.org/2000/svg\" height=\"24px\"viewBox=\"0 0 24 24\"\n",
              "       width=\"24px\">\n",
              "    <path d=\"M0 0h24v24H0V0z\" fill=\"none\"/>\n",
              "    <path d=\"M18.56 5.44l.94 2.06.94-2.06 2.06-.94-2.06-.94-.94-2.06-.94 2.06-2.06.94zm-11 1L8.5 8.5l.94-2.06 2.06-.94-2.06-.94L8.5 2.5l-.94 2.06-2.06.94zm10 10l.94 2.06.94-2.06 2.06-.94-2.06-.94-.94-2.06-.94 2.06-2.06.94z\"/><path d=\"M17.41 7.96l-1.37-1.37c-.4-.4-.92-.59-1.43-.59-.52 0-1.04.2-1.43.59L10.3 9.45l-7.72 7.72c-.78.78-.78 2.05 0 2.83L4 21.41c.39.39.9.59 1.41.59.51 0 1.02-.2 1.41-.59l7.78-7.78 2.81-2.81c.8-.78.8-2.07 0-2.86zM5.41 20L4 18.59l7.72-7.72 1.47 1.35L5.41 20z\"/>\n",
              "  </svg>\n",
              "      </button>\n",
              "      \n",
              "  <style>\n",
              "    .colab-df-container {\n",
              "      display:flex;\n",
              "      flex-wrap:wrap;\n",
              "      gap: 12px;\n",
              "    }\n",
              "\n",
              "    .colab-df-convert {\n",
              "      background-color: #E8F0FE;\n",
              "      border: none;\n",
              "      border-radius: 50%;\n",
              "      cursor: pointer;\n",
              "      display: none;\n",
              "      fill: #1967D2;\n",
              "      height: 32px;\n",
              "      padding: 0 0 0 0;\n",
              "      width: 32px;\n",
              "    }\n",
              "\n",
              "    .colab-df-convert:hover {\n",
              "      background-color: #E2EBFA;\n",
              "      box-shadow: 0px 1px 2px rgba(60, 64, 67, 0.3), 0px 1px 3px 1px rgba(60, 64, 67, 0.15);\n",
              "      fill: #174EA6;\n",
              "    }\n",
              "\n",
              "    [theme=dark] .colab-df-convert {\n",
              "      background-color: #3B4455;\n",
              "      fill: #D2E3FC;\n",
              "    }\n",
              "\n",
              "    [theme=dark] .colab-df-convert:hover {\n",
              "      background-color: #434B5C;\n",
              "      box-shadow: 0px 1px 3px 1px rgba(0, 0, 0, 0.15);\n",
              "      filter: drop-shadow(0px 1px 2px rgba(0, 0, 0, 0.3));\n",
              "      fill: #FFFFFF;\n",
              "    }\n",
              "  </style>\n",
              "\n",
              "      <script>\n",
              "        const buttonEl =\n",
              "          document.querySelector('#df-2501f0d7-1ee3-463f-83f1-020d07d244f4 button.colab-df-convert');\n",
              "        buttonEl.style.display =\n",
              "          google.colab.kernel.accessAllowed ? 'block' : 'none';\n",
              "\n",
              "        async function convertToInteractive(key) {\n",
              "          const element = document.querySelector('#df-2501f0d7-1ee3-463f-83f1-020d07d244f4');\n",
              "          const dataTable =\n",
              "            await google.colab.kernel.invokeFunction('convertToInteractive',\n",
              "                                                     [key], {});\n",
              "          if (!dataTable) return;\n",
              "\n",
              "          const docLinkHtml = 'Like what you see? Visit the ' +\n",
              "            '<a target=\"_blank\" href=https://colab.research.google.com/notebooks/data_table.ipynb>data table notebook</a>'\n",
              "            + ' to learn more about interactive tables.';\n",
              "          element.innerHTML = '';\n",
              "          dataTable['output_type'] = 'display_data';\n",
              "          await google.colab.output.renderOutput(dataTable, element);\n",
              "          const docLink = document.createElement('div');\n",
              "          docLink.innerHTML = docLinkHtml;\n",
              "          element.appendChild(docLink);\n",
              "        }\n",
              "      </script>\n",
              "    </div>\n",
              "  </div>\n",
              "  "
            ],
            "text/plain": [
              "       reviewerID        asin                 reviewerName helpful  \\\n",
              "0  A1KLRMWW2FWPL4  0000031887  Amazon Customer \"cameramom\"  [0, 0]   \n",
              "1  A2G5TCU2WDFZ65  0000031887              Amazon Customer  [0, 0]   \n",
              "2  A1RLQXYNCMWRWN  0000031887                       Carola  [0, 0]   \n",
              "3   A8U3FAMSJVHS5  0000031887                      Caromcg  [0, 0]   \n",
              "4  A3GEOILWLK86XM  0000031887                           CJ  [0, 0]   \n",
              "\n",
              "                                          reviewText  overall  \\\n",
              "0  This is a great tutu and at a really great pri...        5   \n",
              "1  I bought this for my 4 yr old daughter for dan...        5   \n",
              "2  What can I say... my daughters have it in oran...        5   \n",
              "3  We bought several tutus at once, and they are ...        5   \n",
              "4  Thank you Halo Heaven great product for Little...        5   \n",
              "\n",
              "                         summary  unixReviewTime   reviewTime  sentiment  \\\n",
              "0  Great tutu-  not cheaply made      1297468800  02 12, 2011          0   \n",
              "1                    Very Cute!!      1358553600  01 19, 2013          0   \n",
              "2       I have buy more than one      1357257600   01 4, 2013          0   \n",
              "3               Adorable, Sturdy      1398556800  04 27, 2014          0   \n",
              "4        Grammy's Angels Love it      1394841600  03 15, 2014          0   \n",
              "\n",
              "                                               clean  \\\n",
              "0  this is a great tutu and at a really great pri...   \n",
              "1  i bought this for my   yr old daughter for dan...   \n",
              "2  what can i say    my daughters have it in oran...   \n",
              "3  we bought several tutus at once  and they are ...   \n",
              "4  thank you halo heaven great product for little...   \n",
              "\n",
              "                                          text_token  \\\n",
              "0  [this, is, a, great, tutu, and, at, a, really,...   \n",
              "1  [i, bought, this, for, my, yr, old, daughter, ...   \n",
              "2  [what, can, i, say, my, daughters, have, it, i...   \n",
              "3  [we, bought, several, tutus, at, once, and, th...   \n",
              "4  [thank, you, halo, heaven, great, product, for...   \n",
              "\n",
              "                                 text_token_stopword  \\\n",
              "0  [great, tutu, really, great, price, look, chea...   \n",
              "1  [bought, yr, old, daughter, dance, class, wore...   \n",
              "2  [say, daughters, orange, black, white, pink, t...   \n",
              "3  [bought, several, tutus, got, high, reviews, s...   \n",
              "4  [thank, halo, heaven, great, product, little, ...   \n",
              "\n",
              "                                        text_stemmed  \\\n",
              "0  great tutu realli great price look cheap i gla...   \n",
              "1  bought yr old daughter danc class wore today f...   \n",
              "2  say daughter orang black white pink think buy ...   \n",
              "3  bought sever tutu got high review sturdi seemi...   \n",
              "4  thank halo heaven great product littl girl gre...   \n",
              "\n",
              "                                      text_lematized  \n",
              "0  great tutu really great price look cheap I gla...  \n",
              "1  bought yr old daughter dance class wore today ...  \n",
              "2  say daughter orange black white pink thinking ...  \n",
              "3  bought several tutu got high review sturdy see...  \n",
              "4  thank halo heaven great product little girl gr...  "
            ]
          },
          "execution_count": 38,
          "metadata": {},
          "output_type": "execute_result"
        }
      ],
      "source": [
        "df.head()"
      ]
    },
    {
      "cell_type": "code",
      "execution_count": 39,
      "metadata": {
        "colab": {
          "base_uri": "https://localhost:8080/",
          "height": 206
        },
        "id": "lDjGCNtCXxdl",
        "outputId": "402112be-566a-4003-900d-992691242e65"
      },
      "outputs": [
        {
          "data": {
            "text/html": [
              "\n",
              "  <div id=\"df-1595131f-4b0d-4f89-8027-51e5404fa6a1\">\n",
              "    <div class=\"colab-df-container\">\n",
              "      <div>\n",
              "<style scoped>\n",
              "    .dataframe tbody tr th:only-of-type {\n",
              "        vertical-align: middle;\n",
              "    }\n",
              "\n",
              "    .dataframe tbody tr th {\n",
              "        vertical-align: top;\n",
              "    }\n",
              "\n",
              "    .dataframe thead th {\n",
              "        text-align: right;\n",
              "    }\n",
              "</style>\n",
              "<table border=\"1\" class=\"dataframe\">\n",
              "  <thead>\n",
              "    <tr style=\"text-align: right;\">\n",
              "      <th></th>\n",
              "      <th>text_lematized</th>\n",
              "      <th>sentiment</th>\n",
              "    </tr>\n",
              "  </thead>\n",
              "  <tbody>\n",
              "    <tr>\n",
              "      <th>0</th>\n",
              "      <td>great tutu really great price look cheap I gla...</td>\n",
              "      <td>0</td>\n",
              "    </tr>\n",
              "    <tr>\n",
              "      <th>1</th>\n",
              "      <td>bought yr old daughter dance class wore today ...</td>\n",
              "      <td>0</td>\n",
              "    </tr>\n",
              "    <tr>\n",
              "      <th>2</th>\n",
              "      <td>say daughter orange black white pink thinking ...</td>\n",
              "      <td>0</td>\n",
              "    </tr>\n",
              "    <tr>\n",
              "      <th>3</th>\n",
              "      <td>bought several tutu got high review sturdy see...</td>\n",
              "      <td>0</td>\n",
              "    </tr>\n",
              "    <tr>\n",
              "      <th>4</th>\n",
              "      <td>thank halo heaven great product little girl gr...</td>\n",
              "      <td>0</td>\n",
              "    </tr>\n",
              "  </tbody>\n",
              "</table>\n",
              "</div>\n",
              "      <button class=\"colab-df-convert\" onclick=\"convertToInteractive('df-1595131f-4b0d-4f89-8027-51e5404fa6a1')\"\n",
              "              title=\"Convert this dataframe to an interactive table.\"\n",
              "              style=\"display:none;\">\n",
              "        \n",
              "  <svg xmlns=\"http://www.w3.org/2000/svg\" height=\"24px\"viewBox=\"0 0 24 24\"\n",
              "       width=\"24px\">\n",
              "    <path d=\"M0 0h24v24H0V0z\" fill=\"none\"/>\n",
              "    <path d=\"M18.56 5.44l.94 2.06.94-2.06 2.06-.94-2.06-.94-.94-2.06-.94 2.06-2.06.94zm-11 1L8.5 8.5l.94-2.06 2.06-.94-2.06-.94L8.5 2.5l-.94 2.06-2.06.94zm10 10l.94 2.06.94-2.06 2.06-.94-2.06-.94-.94-2.06-.94 2.06-2.06.94z\"/><path d=\"M17.41 7.96l-1.37-1.37c-.4-.4-.92-.59-1.43-.59-.52 0-1.04.2-1.43.59L10.3 9.45l-7.72 7.72c-.78.78-.78 2.05 0 2.83L4 21.41c.39.39.9.59 1.41.59.51 0 1.02-.2 1.41-.59l7.78-7.78 2.81-2.81c.8-.78.8-2.07 0-2.86zM5.41 20L4 18.59l7.72-7.72 1.47 1.35L5.41 20z\"/>\n",
              "  </svg>\n",
              "      </button>\n",
              "      \n",
              "  <style>\n",
              "    .colab-df-container {\n",
              "      display:flex;\n",
              "      flex-wrap:wrap;\n",
              "      gap: 12px;\n",
              "    }\n",
              "\n",
              "    .colab-df-convert {\n",
              "      background-color: #E8F0FE;\n",
              "      border: none;\n",
              "      border-radius: 50%;\n",
              "      cursor: pointer;\n",
              "      display: none;\n",
              "      fill: #1967D2;\n",
              "      height: 32px;\n",
              "      padding: 0 0 0 0;\n",
              "      width: 32px;\n",
              "    }\n",
              "\n",
              "    .colab-df-convert:hover {\n",
              "      background-color: #E2EBFA;\n",
              "      box-shadow: 0px 1px 2px rgba(60, 64, 67, 0.3), 0px 1px 3px 1px rgba(60, 64, 67, 0.15);\n",
              "      fill: #174EA6;\n",
              "    }\n",
              "\n",
              "    [theme=dark] .colab-df-convert {\n",
              "      background-color: #3B4455;\n",
              "      fill: #D2E3FC;\n",
              "    }\n",
              "\n",
              "    [theme=dark] .colab-df-convert:hover {\n",
              "      background-color: #434B5C;\n",
              "      box-shadow: 0px 1px 3px 1px rgba(0, 0, 0, 0.15);\n",
              "      filter: drop-shadow(0px 1px 2px rgba(0, 0, 0, 0.3));\n",
              "      fill: #FFFFFF;\n",
              "    }\n",
              "  </style>\n",
              "\n",
              "      <script>\n",
              "        const buttonEl =\n",
              "          document.querySelector('#df-1595131f-4b0d-4f89-8027-51e5404fa6a1 button.colab-df-convert');\n",
              "        buttonEl.style.display =\n",
              "          google.colab.kernel.accessAllowed ? 'block' : 'none';\n",
              "\n",
              "        async function convertToInteractive(key) {\n",
              "          const element = document.querySelector('#df-1595131f-4b0d-4f89-8027-51e5404fa6a1');\n",
              "          const dataTable =\n",
              "            await google.colab.kernel.invokeFunction('convertToInteractive',\n",
              "                                                     [key], {});\n",
              "          if (!dataTable) return;\n",
              "\n",
              "          const docLinkHtml = 'Like what you see? Visit the ' +\n",
              "            '<a target=\"_blank\" href=https://colab.research.google.com/notebooks/data_table.ipynb>data table notebook</a>'\n",
              "            + ' to learn more about interactive tables.';\n",
              "          element.innerHTML = '';\n",
              "          dataTable['output_type'] = 'display_data';\n",
              "          await google.colab.output.renderOutput(dataTable, element);\n",
              "          const docLink = document.createElement('div');\n",
              "          docLink.innerHTML = docLinkHtml;\n",
              "          element.appendChild(docLink);\n",
              "        }\n",
              "      </script>\n",
              "    </div>\n",
              "  </div>\n",
              "  "
            ],
            "text/plain": [
              "                                      text_lematized  sentiment\n",
              "0  great tutu really great price look cheap I gla...          0\n",
              "1  bought yr old daughter dance class wore today ...          0\n",
              "2  say daughter orange black white pink thinking ...          0\n",
              "3  bought several tutu got high review sturdy see...          0\n",
              "4  thank halo heaven great product little girl gr...          0"
            ]
          },
          "execution_count": 39,
          "metadata": {},
          "output_type": "execute_result"
        }
      ],
      "source": [
        "dataset = df[['text_lematized','sentiment']]\n",
        "dataset.head()"
      ]
    },
    {
      "cell_type": "code",
      "execution_count": 40,
      "metadata": {
        "id": "jhwO4ppLYYfd"
      },
      "outputs": [],
      "source": [
        "train, test = train_test_split(dataset, test_size=0.000001 , random_state=13)"
      ]
    },
    {
      "cell_type": "code",
      "execution_count": 41,
      "metadata": {
        "colab": {
          "base_uri": "https://localhost:8080/"
        },
        "id": "i4nZOvOeYzjc",
        "outputId": "c595e780-9f16-4258-ae20-7c3bc276f153"
      },
      "outputs": [
        {
          "name": "stdout",
          "output_type": "stream",
          "text": [
            "Found 278677 unique tokens.\n"
          ]
        }
      ],
      "source": [
        "def tokenize_text(text):\n",
        "    tokens = []\n",
        "    for sent in nltk.sent_tokenize(text):\n",
        "        for word in nltk.word_tokenize(sent):\n",
        "            #if len(word) < 0:\n",
        "            if len(word) <= 0:\n",
        "                continue\n",
        "            tokens.append(word.lower())\n",
        "    return tokens\n",
        "train_tagged = train.apply(\n",
        "    lambda r: TaggedDocument(words=tokenize_text(r['text_lematized']), tags=[r.sentiment]), axis=1)\n",
        "test_tagged = test.apply(\n",
        "    lambda r: TaggedDocument(words=tokenize_text(r['text_lematized']), tags=[r.sentiment]), axis=1)\n",
        "\n",
        "# The maximum number of words to be used. (most frequent)\n",
        "max_fatures = 500000\n",
        "\n",
        "# Max number of words in each complaint.\n",
        "MAX_SEQUENCE_LENGTH = 50\n",
        "\n",
        "#tokenizer = Tokenizer(num_words=max_fatures, split=' ')\n",
        "tokenizer = Tokenizer(num_words=max_fatures, split=' ', filters='!\"#$%&()*+,-./:;<=>?@[\\]^_`{|}~', lower=True)\n",
        "tokenizer.fit_on_texts(df['text_lematized'].values)\n",
        "X = tokenizer.texts_to_sequences(df['text_lematized'].values)\n",
        "X = pad_sequences(X)\n",
        "print('Found %s unique tokens.' % len(X))"
      ]
    },
    {
      "cell_type": "code",
      "execution_count": 42,
      "metadata": {
        "colab": {
          "base_uri": "https://localhost:8080/"
        },
        "id": "m9Ppqb0xaYEV",
        "outputId": "916107e8-d231-45b2-fb7f-d975a95f9b12"
      },
      "outputs": [
        {
          "name": "stdout",
          "output_type": "stream",
          "text": [
            "Shape of data tensor: (278677, 50)\n"
          ]
        }
      ],
      "source": [
        "X = tokenizer.texts_to_sequences(df['text_lematized'].values)\n",
        "X = pad_sequences(X, maxlen=MAX_SEQUENCE_LENGTH)\n",
        "print('Shape of data tensor:', X.shape)"
      ]
    },
    {
      "cell_type": "code",
      "execution_count": 43,
      "metadata": {
        "colab": {
          "base_uri": "https://localhost:8080/"
        },
        "id": "i3VC7bOVaix0",
        "outputId": "8b77b891-7a54-4463-861c-d5633aad4e1c"
      },
      "outputs": [
        {
          "name": "stderr",
          "output_type": "stream",
          "text": [
            "100%|██████████| 278676/278676 [00:00<00:00, 2516923.80it/s]\n"
          ]
        }
      ],
      "source": [
        "d2v_model = Doc2Vec(dm=1, dm_mean=1, size=20, window=8, min_count=1, workers=1, alpha=0.065, min_alpha=0.065)\n",
        "d2v_model.build_vocab([x for x in tqdm(train_tagged.values)])"
      ]
    },
    {
      "cell_type": "code",
      "execution_count": 44,
      "metadata": {
        "colab": {
          "base_uri": "https://localhost:8080/"
        },
        "id": "UkRYu9ePaltf",
        "outputId": "0281e950-39f8-4047-b55d-135c31919c1d"
      },
      "outputs": [
        {
          "name": "stderr",
          "output_type": "stream",
          "text": [
            "100%|██████████| 278676/278676 [00:00<00:00, 3084635.99it/s]\n",
            "100%|██████████| 278676/278676 [00:00<00:00, 2857157.88it/s]\n",
            "100%|██████████| 278676/278676 [00:00<00:00, 2631127.01it/s]\n",
            "100%|██████████| 278676/278676 [00:00<00:00, 2903171.94it/s]\n",
            "100%|██████████| 278676/278676 [00:00<00:00, 2956693.40it/s]\n",
            "100%|██████████| 278676/278676 [00:00<00:00, 3097921.19it/s]\n",
            "100%|██████████| 278676/278676 [00:00<00:00, 3035679.24it/s]\n",
            "100%|██████████| 278676/278676 [00:00<00:00, 3122917.64it/s]\n",
            "100%|██████████| 278676/278676 [00:00<00:00, 3004165.91it/s]\n",
            "100%|██████████| 278676/278676 [00:00<00:00, 2598909.75it/s]\n",
            "100%|██████████| 278676/278676 [00:00<00:00, 3018970.69it/s]\n",
            "100%|██████████| 278676/278676 [00:00<00:00, 3072029.32it/s]\n",
            "100%|██████████| 278676/278676 [00:00<00:00, 2997056.06it/s]\n",
            "100%|██████████| 278676/278676 [00:00<00:00, 3127220.60it/s]\n",
            "100%|██████████| 278676/278676 [00:00<00:00, 2995727.18it/s]\n",
            "100%|██████████| 278676/278676 [00:00<00:00, 3051466.04it/s]\n",
            "100%|██████████| 278676/278676 [00:00<00:00, 2909487.93it/s]\n",
            "100%|██████████| 278676/278676 [00:00<00:00, 1764445.85it/s]\n",
            "100%|██████████| 278676/278676 [00:00<00:00, 2874845.63it/s]\n",
            "100%|██████████| 278676/278676 [00:00<00:00, 3134550.29it/s]\n",
            "100%|██████████| 278676/278676 [00:00<00:00, 2815364.01it/s]\n",
            "100%|██████████| 278676/278676 [00:00<00:00, 2909154.82it/s]\n",
            "100%|██████████| 278676/278676 [00:00<00:00, 3044931.75it/s]\n",
            "100%|██████████| 278676/278676 [00:00<00:00, 2945197.92it/s]\n",
            "100%|██████████| 278676/278676 [00:00<00:00, 2831191.77it/s]\n",
            "100%|██████████| 278676/278676 [00:00<00:00, 2712607.83it/s]\n",
            "100%|██████████| 278676/278676 [00:00<00:00, 2597997.05it/s]\n",
            "100%|██████████| 278676/278676 [00:00<00:00, 2849885.07it/s]\n",
            "100%|██████████| 278676/278676 [00:00<00:00, 3011162.19it/s]\n",
            "100%|██████████| 278676/278676 [00:00<00:00, 3018370.39it/s]\n"
          ]
        },
        {
          "name": "stdout",
          "output_type": "stream",
          "text": [
            "CPU times: user 11min 14s, sys: 3.07 s, total: 11min 17s\n",
            "Wall time: 11min 12s\n"
          ]
        }
      ],
      "source": [
        "%%time\n",
        "for epoch in range(30):\n",
        "    d2v_model.train(utils.shuffle([x for x in tqdm(train_tagged.values)]), total_examples=len(train_tagged.values), epochs=1)\n",
        "    d2v_model.alpha -= 0.002\n",
        "    d2v_model.min_alpha = d2v_model.alpha"
      ]
    },
    {
      "cell_type": "code",
      "execution_count": 45,
      "metadata": {
        "colab": {
          "base_uri": "https://localhost:8080/"
        },
        "id": "C41IXq2uanzf",
        "outputId": "0a5533f2-c701-4607-d398-c26a1303fbe8"
      },
      "outputs": [
        {
          "name": "stdout",
          "output_type": "stream",
          "text": [
            "Doc2Vec(dm/m,d20,n5,w8,s0.001)\n"
          ]
        }
      ],
      "source": [
        "print(d2v_model)"
      ]
    },
    {
      "cell_type": "code",
      "execution_count": 46,
      "metadata": {
        "id": "av3zn5IyaqJc"
      },
      "outputs": [],
      "source": [
        "# save the vectors in a new matrix\n",
        "embedding_matrix = np.zeros((len(d2v_model.wv.vocab)+ 1, 20))\n",
        "\n",
        "for i, vec in enumerate(d2v_model.docvecs.vectors_docs):\n",
        "    while i in vec <= 1000:\n",
        "    #print(i)\n",
        "    #print(model.docvecs)\n",
        "          embedding_matrix[i]=vec"
      ]
    },
    {
      "cell_type": "code",
      "execution_count": 47,
      "metadata": {
        "id": "N-hASypgas3Y"
      },
      "outputs": [],
      "source": [
        "# LSTM model\n",
        "from keras.models import Sequential\n",
        "from keras.layers import LSTM, Dense, Embedding\n",
        "\n",
        "# init layer\n",
        "model = Sequential()\n",
        "# emmbed word vectors\n",
        "model.add(Embedding(len(d2v_model.wv.vocab)+1,20,input_length=X.shape[1],weights=[embedding_matrix],trainable=True))\n",
        "# learn the correlations\n",
        "def split_input(sequence):\n",
        "     return sequence[:-1], np.reshape(sequence[1:], (-1,1))\n",
        "model.add(LSTM(50,return_sequences=False))\n",
        "model.add(Dense(3,activation=\"softmax\"))"
      ]
    },
    {
      "cell_type": "code",
      "execution_count": 48,
      "metadata": {
        "colab": {
          "base_uri": "https://localhost:8080/"
        },
        "id": "xV7is-OTkxqj",
        "outputId": "0dd4def6-f053-4fe2-d1f3-84a72f141775"
      },
      "outputs": [
        {
          "name": "stdout",
          "output_type": "stream",
          "text": [
            "Model: \"sequential\"\n",
            "_________________________________________________________________\n",
            " Layer (type)                Output Shape              Param #   \n",
            "=================================================================\n",
            " embedding (Embedding)       (None, 50, 20)            1374560   \n",
            "                                                                 \n",
            " lstm (LSTM)                 (None, 50)                14200     \n",
            "                                                                 \n",
            " dense (Dense)               (None, 3)                 153       \n",
            "                                                                 \n",
            "=================================================================\n",
            "Total params: 1,388,913\n",
            "Trainable params: 1,388,913\n",
            "Non-trainable params: 0\n",
            "_________________________________________________________________\n"
          ]
        }
      ],
      "source": [
        "# output model skeleton\n",
        "model.summary()\n",
        "model.compile(optimizer=\"adam\",loss=\"binary_crossentropy\",metrics=['acc'])"
      ]
    },
    {
      "cell_type": "code",
      "execution_count": 49,
      "metadata": {
        "colab": {
          "base_uri": "https://localhost:8080/",
          "height": 369
        },
        "id": "6UcupWNKkfwU",
        "outputId": "d3dab011-7605-4c1e-efda-a34d4ccdfe10"
      },
      "outputs": [
        {
          "data": {
            "image/png": "[encoded data removed]",
            "text/plain": [
              "<IPython.core.display.Image object>"
            ]
          },
          "execution_count": 49,
          "metadata": {},
          "output_type": "execute_result"
        }
      ],
      "source": [
        "from keras.utils import plot_model\n",
        "plot_model(model, to_file='model.png')"
      ]
    },
    {
      "cell_type": "code",
      "execution_count": 50,
      "metadata": {
        "colab": {
          "base_uri": "https://localhost:8080/"
        },
        "id": "_fFLJFqtkl_7",
        "outputId": "1d21dfea-115c-49cd-c10b-455b51939d3c"
      },
      "outputs": [
        {
          "name": "stdout",
          "output_type": "stream",
          "text": [
            "(236875, 50) (236875, 3)\n",
            "(41802, 50) (41802, 3)\n"
          ]
        }
      ],
      "source": [
        "Y = pd.get_dummies(df['sentiment']).values\n",
        "X_train, X_test, Y_train, Y_test = train_test_split(X,Y, test_size = 0.15, random_state = 42)\n",
        "print(X_train.shape,Y_train.shape)\n",
        "print(X_test.shape,Y_test.shape)"
      ]
    },
    {
      "cell_type": "code",
      "execution_count": 51,
      "metadata": {
        "colab": {
          "base_uri": "https://localhost:8080/"
        },
        "id": "6ol3odUskpoU",
        "outputId": "62d8ee96-6bd5-45ac-e6a6-030afcf44788"
      },
      "outputs": [
        {
          "name": "stdout",
          "output_type": "stream",
          "text": [
            "Epoch 1/50\n",
            "7403/7403 - 46s - loss: 0.2608 - acc: 0.8323 - 46s/epoch - 6ms/step\n",
            "Epoch 2/50\n",
            "7403/7403 - 39s - loss: 0.2290 - acc: 0.8501 - 39s/epoch - 5ms/step\n",
            "Epoch 3/50\n",
            "7403/7403 - 41s - loss: 0.2144 - acc: 0.8598 - 41s/epoch - 6ms/step\n",
            "Epoch 4/50\n",
            "7403/7403 - 40s - loss: 0.2005 - acc: 0.8693 - 40s/epoch - 5ms/step\n",
            "Epoch 5/50\n",
            "7403/7403 - 39s - loss: 0.1873 - acc: 0.8792 - 39s/epoch - 5ms/step\n",
            "Epoch 6/50\n",
            "7403/7403 - 39s - loss: 0.1744 - acc: 0.8877 - 39s/epoch - 5ms/step\n",
            "Epoch 7/50\n",
            "7403/7403 - 40s - loss: 0.1614 - acc: 0.8968 - 40s/epoch - 5ms/step\n",
            "Epoch 8/50\n",
            "7403/7403 - 41s - loss: 0.1492 - acc: 0.9045 - 41s/epoch - 5ms/step\n",
            "Epoch 9/50\n",
            "7403/7403 - 39s - loss: 0.1372 - acc: 0.9127 - 39s/epoch - 5ms/step\n",
            "Epoch 10/50\n",
            "7403/7403 - 39s - loss: 0.1271 - acc: 0.9191 - 39s/epoch - 5ms/step\n",
            "Epoch 11/50\n",
            "7403/7403 - 39s - loss: 0.1174 - acc: 0.9256 - 39s/epoch - 5ms/step\n",
            "Epoch 12/50\n",
            "7403/7403 - 41s - loss: 0.1089 - acc: 0.9309 - 41s/epoch - 6ms/step\n",
            "Epoch 13/50\n",
            "7403/7403 - 40s - loss: 0.1011 - acc: 0.9358 - 40s/epoch - 5ms/step\n",
            "Epoch 14/50\n",
            "7403/7403 - 39s - loss: 0.0941 - acc: 0.9407 - 39s/epoch - 5ms/step\n",
            "Epoch 15/50\n",
            "7403/7403 - 39s - loss: 0.0880 - acc: 0.9443 - 39s/epoch - 5ms/step\n",
            "Epoch 16/50\n",
            "7403/7403 - 39s - loss: 0.0826 - acc: 0.9477 - 39s/epoch - 5ms/step\n",
            "Epoch 17/50\n",
            "7403/7403 - 39s - loss: 0.0781 - acc: 0.9510 - 39s/epoch - 5ms/step\n",
            "Epoch 18/50\n",
            "7403/7403 - 42s - loss: 0.0731 - acc: 0.9544 - 42s/epoch - 6ms/step\n",
            "Epoch 19/50\n",
            "7403/7403 - 39s - loss: 0.0693 - acc: 0.9570 - 39s/epoch - 5ms/step\n",
            "Epoch 20/50\n",
            "7403/7403 - 39s - loss: 0.0654 - acc: 0.9593 - 39s/epoch - 5ms/step\n",
            "Epoch 21/50\n",
            "7403/7403 - 39s - loss: 0.0620 - acc: 0.9620 - 39s/epoch - 5ms/step\n",
            "Epoch 22/50\n",
            "7403/7403 - 39s - loss: 0.0591 - acc: 0.9635 - 39s/epoch - 5ms/step\n",
            "Epoch 23/50\n",
            "7403/7403 - 39s - loss: 0.0567 - acc: 0.9657 - 39s/epoch - 5ms/step\n",
            "Epoch 24/50\n",
            "7403/7403 - 39s - loss: 0.0536 - acc: 0.9673 - 39s/epoch - 5ms/step\n",
            "Epoch 25/50\n",
            "7403/7403 - 42s - loss: 0.0511 - acc: 0.9693 - 42s/epoch - 6ms/step\n",
            "Epoch 26/50\n",
            "7403/7403 - 39s - loss: 0.0490 - acc: 0.9710 - 39s/epoch - 5ms/step\n",
            "Epoch 27/50\n",
            "7403/7403 - 39s - loss: 0.0467 - acc: 0.9725 - 39s/epoch - 5ms/step\n",
            "Epoch 28/50\n",
            "7403/7403 - 39s - loss: 0.0446 - acc: 0.9737 - 39s/epoch - 5ms/step\n",
            "Epoch 29/50\n",
            "7403/7403 - 39s - loss: 0.0429 - acc: 0.9750 - 39s/epoch - 5ms/step\n",
            "Epoch 30/50\n",
            "7403/7403 - 39s - loss: 0.0410 - acc: 0.9760 - 39s/epoch - 5ms/step\n",
            "Epoch 31/50\n",
            "7403/7403 - 39s - loss: 0.0395 - acc: 0.9774 - 39s/epoch - 5ms/step\n",
            "Epoch 32/50\n",
            "7403/7403 - 41s - loss: 0.0383 - acc: 0.9781 - 41s/epoch - 6ms/step\n",
            "Epoch 33/50\n",
            "7403/7403 - 39s - loss: 0.0371 - acc: 0.9792 - 39s/epoch - 5ms/step\n",
            "Epoch 34/50\n",
            "7403/7403 - 39s - loss: 0.0354 - acc: 0.9801 - 39s/epoch - 5ms/step\n",
            "Epoch 35/50\n",
            "7403/7403 - 39s - loss: 0.0348 - acc: 0.9807 - 39s/epoch - 5ms/step\n",
            "Epoch 36/50\n",
            "7403/7403 - 39s - loss: 0.0333 - acc: 0.9814 - 39s/epoch - 5ms/step\n",
            "Epoch 37/50\n",
            "7403/7403 - 39s - loss: 0.0327 - acc: 0.9819 - 39s/epoch - 5ms/step\n",
            "Epoch 38/50\n",
            "7403/7403 - 39s - loss: 0.0310 - acc: 0.9830 - 39s/epoch - 5ms/step\n",
            "Epoch 39/50\n",
            "7403/7403 - 41s - loss: 0.0311 - acc: 0.9833 - 41s/epoch - 6ms/step\n",
            "Epoch 40/50\n",
            "7403/7403 - 39s - loss: 0.0288 - acc: 0.9844 - 39s/epoch - 5ms/step\n",
            "Epoch 41/50\n",
            "7403/7403 - 39s - loss: 0.0287 - acc: 0.9846 - 39s/epoch - 5ms/step\n",
            "Epoch 42/50\n",
            "7403/7403 - 39s - loss: 0.0278 - acc: 0.9848 - 39s/epoch - 5ms/step\n",
            "Epoch 43/50\n",
            "7403/7403 - 38s - loss: 0.0271 - acc: 0.9855 - 38s/epoch - 5ms/step\n",
            "Epoch 44/50\n",
            "7403/7403 - 39s - loss: 0.0267 - acc: 0.9855 - 39s/epoch - 5ms/step\n",
            "Epoch 45/50\n",
            "7403/7403 - 39s - loss: 0.0261 - acc: 0.9863 - 39s/epoch - 5ms/step\n",
            "Epoch 46/50\n",
            "7403/7403 - 41s - loss: 0.0250 - acc: 0.9871 - 41s/epoch - 6ms/step\n",
            "Epoch 47/50\n",
            "7403/7403 - 39s - loss: 0.0249 - acc: 0.9871 - 39s/epoch - 5ms/step\n",
            "Epoch 48/50\n",
            "7403/7403 - 39s - loss: 0.0244 - acc: 0.9872 - 39s/epoch - 5ms/step\n",
            "Epoch 49/50\n",
            "7403/7403 - 39s - loss: 0.0233 - acc: 0.9882 - 39s/epoch - 5ms/step\n",
            "Epoch 50/50\n",
            "7403/7403 - 39s - loss: 0.0233 - acc: 0.9880 - 39s/epoch - 5ms/step\n"
          ]
        }
      ],
      "source": [
        "batch_size = 32\n",
        "history=model.fit(X_train, Y_train, epochs =50, batch_size=batch_size, verbose = 2)"
      ]
    },
    {
      "cell_type": "code",
      "execution_count": 52,
      "metadata": {
        "colab": {
          "base_uri": "https://localhost:8080/",
          "height": 295
        },
        "id": "wkI1-EPDksMD",
        "outputId": "aadc74ec-b62f-4dfa-cb16-882a147560d4"
      },
      "outputs": [
        {
          "data": {
            "image/png": "[encoded data removed]",
            "text/plain": [
              "<Figure size 432x288 with 1 Axes>"
            ]
          },
          "metadata": {
            "needs_background": "light"
          },
          "output_type": "display_data"
        }
      ],
      "source": [
        "plt.plot(history.history['acc'])\n",
        "plt.title('model accuracy')\n",
        "plt.ylabel('acc')\n",
        "plt.xlabel('epochs')\n",
        "plt.legend(['train', 'test'], loc='upper left')\n",
        "plt.show()"
      ]
    },
    {
      "cell_type": "code",
      "execution_count": 53,
      "metadata": {
        "colab": {
          "base_uri": "https://localhost:8080/",
          "height": 295
        },
        "id": "M4u4BljT0LJL",
        "outputId": "e99fc046-8eac-4069-ac72-e74efdd371cf"
      },
      "outputs": [
        {
          "data": {
            "image/png": "[encoded data removed]",
            "text/plain": [
              "<Figure size 432x288 with 1 Axes>"
            ]
          },
          "metadata": {
            "needs_background": "light"
          },
          "output_type": "display_data"
        }
      ],
      "source": [
        "# summarize history for loss\n",
        "plt.plot(history.history['loss'])\n",
        "#plt.plot(history.history['val_loss'])\n",
        "plt.title('model loss')\n",
        "plt.ylabel('loss')\n",
        "plt.xlabel('epochs')\n",
        "plt.legend(['train', 'test'], loc='upper left')\n",
        "plt.show()"
      ]
    },
    {
      "cell_type": "markdown",
      "metadata": {
        "id": "HElAi8Pc0Q3Z"
      },
      "source": [
        "Nhan xet: model co acc cao, loss thap, co the su dung."
      ]
    },
    {
      "cell_type": "code",
      "execution_count": 54,
      "metadata": {
        "colab": {
          "base_uri": "https://localhost:8080/"
        },
        "id": "sX3GDymV0Oss",
        "outputId": "fd74a7c0-3baf-4777-ccca-c110fceaa153"
      },
      "outputs": [
        {
          "name": "stdout",
          "output_type": "stream",
          "text": [
            "7403/7403 - 26s - loss: 0.0185 - acc: 0.9908 - 26s/epoch - 4ms/step\n",
            "1307/1307 - 4s - loss: 1.0538 - acc: 0.7913 - 4s/epoch - 3ms/step\n",
            "Train: 0.991, Test: 0.7913\n"
          ]
        }
      ],
      "source": [
        "#evaluate the model\n",
        "_, train_acc = model.evaluate(X_train, Y_train, verbose=2)\n",
        "_, test_acc = model.evaluate(X_test, Y_test, verbose=2)\n",
        "print('Train: %.3f, Test: %.4f' % (train_acc, test_acc))"
      ]
    },
    {
      "cell_type": "markdown",
      "metadata": {
        "id": "u6EPnlS417f1"
      },
      "source": [
        "### Test"
      ]
    },
    {
      "cell_type": "code",
      "execution_count": 81,
      "metadata": {
        "id": "myxC61Zr1buK"
      },
      "outputs": [],
      "source": [
        "text_2 = \"The title says it all. I loved these, but you literally have to wrestle your kid and near mangle his feet, even when a size or two too big- to get them on. THEN you have to lace and tie them! On a kicking toddler! Yeah, right! IMPOSSIBLE to get on for the most part. And don't seem comfortable either. they need to create this same shoe, but but an easy access ZIPPER on the side, down to the toe bed to get the young child's foot inside.\"\n",
        "text_1 = \"My 3yr old loved this tutu skirt in pink! Was hoping to order more in different colors.She had hardly used this,the stitching came apart in 2weeks.now it's lying in her closet..Altogether she wore it like 4-5 times for 20 mins or so.wish the stitching was of better quality to hold up while little ones wear it. Can't recommend.\"\n",
        "text_0 = 'We bought several tutus at once, and they are got high reviews. Sturdy and seemingly well-made. The girls have been wearing them regularly, including out to play, and the tutus have stood up well. Fits the 3-yr old & the 5-yr old well. Clearly plenty of room to grow. Only con is that when the kids pull off the tutus, the waste band gets twisted, and an adult has to un-tangle. But this is not difficult.'"
      ]
    },
    {
      "cell_type": "code",
      "execution_count": 82,
      "metadata": {
        "id": "qtYxvz-32cai"
      },
      "outputs": [],
      "source": [
        "# sentiment = {'positive': 0,'neutral': 1,'negative':2}\n",
        "labels = ['0','1','2']"
      ]
    },
    {
      "cell_type": "code",
      "execution_count": 83,
      "metadata": {
        "colab": {
          "base_uri": "https://localhost:8080/"
        },
        "id": "InsHixQS2Xcq",
        "outputId": "97cb7675-1cc6-4509-858c-2177be42b542"
      },
      "outputs": [
        {
          "name": "stdout",
          "output_type": "stream",
          "text": [
            "1/1 [==============================] - 0s 19ms/step\n",
            "[[3.9658596e-09 3.0686411e-07 9.9999964e-01]] Predict:  2\n"
          ]
        }
      ],
      "source": [
        "seq = tokenizer.texts_to_sequences([text_2])\n",
        "padded = pad_sequences(seq, maxlen=X.shape[1], dtype='int32', value=0)\n",
        "pred = model.predict(padded)\n",
        "print(pred, 'Predict: ', labels[np.argmax(pred)])"
      ]
    },
    {
      "cell_type": "code",
      "execution_count": 84,
      "metadata": {
        "colab": {
          "base_uri": "https://localhost:8080/"
        },
        "id": "WrPw09r72ltH",
        "outputId": "b11ee6fd-c814-4f52-c9fb-bf2dbf690be5"
      },
      "outputs": [
        {
          "name": "stdout",
          "output_type": "stream",
          "text": [
            "1/1 [==============================] - 0s 18ms/step\n",
            "[[1.7215691e-05 9.9998283e-01 5.4000755e-11]] Predict:  1\n"
          ]
        }
      ],
      "source": [
        "seq = tokenizer.texts_to_sequences([text_1])\n",
        "padded = pad_sequences(seq, maxlen=X.shape[1], dtype='int32', value=0)\n",
        "pred = model.predict(padded)\n",
        "print(pred, 'Predict: ',labels[np.argmax(pred)])"
      ]
    },
    {
      "cell_type": "code",
      "execution_count": 85,
      "metadata": {
        "colab": {
          "base_uri": "https://localhost:8080/"
        },
        "id": "jeTdL07G2u9h",
        "outputId": "cb8ca528-991b-4cde-d7b9-afb8d5133ba5"
      },
      "outputs": [
        {
          "name": "stdout",
          "output_type": "stream",
          "text": [
            "1/1 [==============================] - 0s 15ms/step\n",
            "[[1.0000000e+00 6.6920319e-14 2.4630498e-10]] Predict:  0\n"
          ]
        }
      ],
      "source": [
        "seq = tokenizer.texts_to_sequences([text_0])\n",
        "padded = pad_sequences(seq, maxlen=X.shape[1], dtype='int32', value=0)\n",
        "pred = model.predict(padded)\n",
        "print(pred, 'Predict: ',labels[np.argmax(pred)])"
      ]
    },
    {
      "cell_type": "markdown",
      "metadata": {
        "id": "3L7QWzYG28Yi"
      },
      "source": [
        "Nhan xet: model du doan dung 3/3 vi du. Hoat dong tot."
      ]
    },
    {
      "cell_type": "code",
      "execution_count": 85,
      "metadata": {
        "id": "tYURHUfx2w4A"
      },
      "outputs": [],
      "source": []
    }
  ],
  "metadata": {
    "accelerator": "GPU",
    "colab": {
      "collapsed_sections": [],
      "provenance": []
    },
    "gpuClass": "standard",
    "kernelspec": {
      "display_name": "Python 3",
      "language": "python",
      "name": "python3"
    },
    "language_info": {
      "name": "python",
      "version": "3.10.6 (tags/v3.10.6:9c7b4bd, Aug  1 2022, 21:53:49) [MSC v.1932 64 bit (AMD64)]"
    },
    "vscode": {
      "interpreter": {
        "hash": "4144e4cd05c1448626b3cdfa5c331ff3d784a64067bfa9052fb13c20e681fc1b"
      }
    }
  },
  "nbformat": 4,
  "nbformat_minor": 0
}
